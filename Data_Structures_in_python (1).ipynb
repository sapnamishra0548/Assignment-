{
  "nbformat": 4,
  "nbformat_minor": 0,
  "metadata": {
    "colab": {
      "provenance": []
    },
    "kernelspec": {
      "name": "python3",
      "display_name": "Python 3"
    },
    "language_info": {
      "name": "python"
    }
  },
  "cells": [
    {
      "cell_type": "markdown",
      "source": [
        "1. **Write a code to reverse a string.**\n",
        "\n",
        "Python code to reverse a string:"
      ],
      "metadata": {
        "id": "644AX4GnnkEv"
      }
    },
    {
      "cell_type": "code",
      "source": [
        "def reverse_string(s):\n",
        "    return s[::-1]\n",
        "\n",
        "# Example usage\n",
        "string = \"Hello, World!\"\n",
        "reversed_string = reverse_string(string)\n",
        "print(\"Original String:\", string)\n",
        "print(\"Reversed String:\", reversed_string)\n"
      ],
      "metadata": {
        "id": "y2ZuzYK1oOa6"
      },
      "execution_count": null,
      "outputs": []
    },
    {
      "cell_type": "markdown",
      "source": [
        "Explanation:\n",
        "\n",
        "1.s[::-1] is a Python slicing technique\n",
        "\n",
        "\n",
        "*   s[start:end:step]\n",
        "*   Here, start and end are omitted, and step is -1, which reverses the string.\n",
        "\n",
        "Here, start and end are omitted, and step is -1, which reverses the string.\n",
        "\n",
        "\n",
        "Output:"
      ],
      "metadata": {
        "id": "La9aEQ8FoR8-"
      }
    },
    {
      "cell_type": "code",
      "source": [
        "Original String: Hello, World!\n",
        "Reversed String: !dlroW ,olleH\n"
      ],
      "metadata": {
        "id": "HqBILJsMoy14"
      },
      "execution_count": null,
      "outputs": []
    },
    {
      "cell_type": "markdown",
      "source": [
        "2. **Write a code to count the number of vowels in a string**\n",
        "\n",
        "\n",
        "Python code snippet to count the number of vowels in a given string:"
      ],
      "metadata": {
        "id": "q1mtrTFbo6kX"
      }
    },
    {
      "cell_type": "code",
      "source": [
        "def count_vowels(s):\n",
        "    vowels = \"aeiouAEIOU\"\n",
        "    count = 0\n",
        "    for char in s:\n",
        "        if char in vowels:\n",
        "            count += 1\n",
        "    return count\n",
        "\n",
        "# Example usage\n",
        "string = \"Hello, World!\"\n",
        "vowel_count = count_vowels(string)\n",
        "print(\"String:\", string)\n",
        "print(\"Number of vowels:\", vowel_count)\n"
      ],
      "metadata": {
        "id": "sDk_TwAspXh9"
      },
      "execution_count": null,
      "outputs": []
    },
    {
      "cell_type": "markdown",
      "source": [
        "Explanation:\n",
        "\n",
        "1.vowels: Contains both uppercase and lowercase vowels.\n",
        "2.Loop: Iterates through each character in the string.\n",
        "3.Condition: Checks if the character is in the vowels string.\n",
        "4.Counter: Increments the count if a vowel is found.\n",
        "\n",
        "Output:"
      ],
      "metadata": {
        "id": "_FT0qEw9pcIl"
      }
    },
    {
      "cell_type": "code",
      "source": [
        "String: Hello, World!\n",
        "Number of vowels: 3\n"
      ],
      "metadata": {
        "id": "eAqsgUI9poD5"
      },
      "execution_count": null,
      "outputs": []
    },
    {
      "cell_type": "markdown",
      "source": [
        "3. **Write a code to check if a given string is a palindrome or not.**\n",
        "\n",
        "\n",
        "Python code to check if a given string is a palindrome:"
      ],
      "metadata": {
        "id": "tv8BGpzipp1K"
      }
    },
    {
      "cell_type": "code",
      "source": [
        "def is_palindrome(s):\n",
        "    # Remove spaces and convert to lowercase for uniformity\n",
        "    s = ''.join(s.split()).lower()\n",
        "    # Check if the string is the same when reversed\n",
        "    return s == s[::-1]\n",
        "\n",
        "# Example usage\n",
        "string = \"A man a plan a canal Panama\"\n",
        "if is_palindrome(string):\n",
        "    print(f'\"{string}\" is a palindrome.')\n",
        "else:\n",
        "    print(f'\"{string}\" is not a palindrome.')\n"
      ],
      "metadata": {
        "id": "eQZz9lFLqJ6P"
      },
      "execution_count": null,
      "outputs": []
    },
    {
      "cell_type": "markdown",
      "source": [
        "Explanation:\n",
        "\n",
        "1.Preprocessing:\n",
        "\n",
        "* split() removes spaces, and join() combines characters without spaces.\n",
        "* lower() converts the string to lowercase for a case-insensitive comparison.\n",
        "\n",
        "2.Palindrome Check:\n",
        "\n",
        "* Compare the string with its reverse (s[::-1]).\n",
        "\n",
        "Example Outputs:\n",
        "\n",
        "1.Input: \"A man a plan a canal Panama\"\n",
        "\n",
        "* Output: \"A man a plan a canal Panama\" is a palindrome.\n",
        "\n",
        "2.Input: \"Hello\"\n",
        "\n",
        "* Output: \"Hello\" is not a palindrome."
      ],
      "metadata": {
        "id": "Ca2oAjIAqNc3"
      }
    },
    {
      "cell_type": "markdown",
      "source": [
        "4. **Write a code to check if two given strings are anagrams of each other.**\n",
        "\n",
        "\n",
        "Python code to check if two given strings are anagrams:"
      ],
      "metadata": {
        "id": "bnhd_69XrIYs"
      }
    },
    {
      "cell_type": "code",
      "source": [
        "def are_anagrams(str1, str2):\n",
        "    # Remove spaces and convert to lowercase\n",
        "    str1 = ''.join(str1.split()).lower()\n",
        "    str2 = ''.join(str2.split()).lower()\n",
        "    # Check if sorted characters of both strings are the same\n",
        "    return sorted(str1) == sorted(str2)\n",
        "\n",
        "# Example usage\n",
        "string1 = \"Listen\"\n",
        "string2 = \"Silent\"\n",
        "\n",
        "if are_anagrams(string1, string2):\n",
        "    print(f'\"{string1}\" and \"{string2}\" are anagrams.')\n",
        "else:\n",
        "    print(f'\"{string1}\" and \"{string2}\" are not anagrams.')\n"
      ],
      "metadata": {
        "id": "UY1D5Z6Lrm0m"
      },
      "execution_count": null,
      "outputs": []
    },
    {
      "cell_type": "markdown",
      "source": [
        "Explanation:\n",
        "\n",
        "1.Preprocessing:\n",
        "\n",
        "*   split() removes spaces, and join() combines characters without spaces.\n",
        "*   lower() converts the strings to lowercase for a case-insensitive comparison.\n",
        "\n",
        "2.Anagram Check:\n",
        "\n",
        "*   sorted(str1) and sorted(str2) sort the characters of the strings alphabetically.\n",
        "*   If the sorted versions are equal, the strings are anagrams.\n",
        "\n",
        "Example Outputs:\n",
        "\n",
        "1.Input: \"Listen\", \"Silent\"\n",
        "\n",
        "*   Output: \"Listen\" and \"Silent\" are anagrams.\n",
        "\n",
        "2.Input: \"Hello\", \"World\"\n",
        "\n",
        "*   Output: \"Hello\" and \"World\" are not anagrams."
      ],
      "metadata": {
        "id": "GMmr3JwRrtmi"
      }
    },
    {
      "cell_type": "markdown",
      "source": [
        "5. **Write a code to final all occurrences of a given substring within another string.**\n",
        "\n",
        "\n",
        "Python code to find all occurrences of a given substring within another string:"
      ],
      "metadata": {
        "id": "KdhmDps0sfMT"
      }
    },
    {
      "cell_type": "code",
      "source": [
        "def find_all_occurrences(text, substring):\n",
        "    occurrences = []\n",
        "    start = 0\n",
        "    while True:\n",
        "        # Find the next occurrence of the substring\n",
        "        start = text.find(substring, start)\n",
        "        if start == -1:  # No more occurrences\n",
        "            break\n",
        "        occurrences.append(start)\n",
        "        start += 1  # Move past the current match to find subsequent matches\n",
        "    return occurrences\n",
        "\n",
        "# Example usage\n",
        "text = \"abracadabra\"\n",
        "substring = \"abra\"\n",
        "\n",
        "positions = find_all_occurrences(text, substring)\n",
        "print(f'All occurrences of \"{substring}\" in \"{text}\": {positions}')\n"
      ],
      "metadata": {
        "id": "qgV_bmUDtP9z"
      },
      "execution_count": null,
      "outputs": []
    },
    {
      "cell_type": "markdown",
      "source": [
        "6. **Write a code to perform basic string compression using the counts of repeated characters.**\n",
        "\n",
        "Python code to perform basic string compression using the counts of repeated characters:"
      ],
      "metadata": {
        "id": "s0eFK90VtUbA"
      }
    },
    {
      "cell_type": "code",
      "source": [
        "def compress_string(s):\n",
        "    compressed = []\n",
        "    count = 1\n",
        "\n",
        "    for i in range(1, len(s)):\n",
        "        if s[i] == s[i - 1]:  # Current character matches the previous one\n",
        "            count += 1\n",
        "        else:\n",
        "            # Append the character and its count to the result\n",
        "            compressed.append(s[i - 1] + str(count))\n",
        "            count = 1  # Reset count for the new character\n",
        "\n",
        "    # Append the last character and its count\n",
        "    if s:\n",
        "        compressed.append(s[-1] + str(count))\n",
        "\n",
        "    # Join the compressed list into a string\n",
        "    compressed_string = ''.join(compressed)\n",
        "\n",
        "    # Return the original string if compression doesn't make it smaller\n",
        "    return compressed_string if len(compressed_string) < len(s) else s\n",
        "\n",
        "# Example usage\n",
        "string = \"aaabbbbcccdde\"\n",
        "compressed = compress_string(string)\n",
        "print(f'Original string: \"{string}\"')\n",
        "print(f'Compressed string: \"{compressed}\"')\n"
      ],
      "metadata": {
        "id": "hpVysitgt1Ig"
      },
      "execution_count": null,
      "outputs": []
    },
    {
      "cell_type": "markdown",
      "source": [
        "Explanation:\n",
        "\n",
        "1.Loop\n",
        "\n",
        "* Iterate through the string to count consecutive characters.\n",
        "\n",
        "\n",
        "\n",
        "2.Compression:\n",
        "\n",
        "*   Append each character and its count to the compressed list.\n",
        "\n",
        "3.Edge Case:\n",
        "\n",
        "*   If the compressed version is not shorter than the original, return the original string.\n",
        "\n",
        "4.Final Output:\n",
        "\n",
        "*   Concatenate the compressed characters and counts into a single string."
      ],
      "metadata": {
        "id": "bpbCTVtBvmKg"
      }
    },
    {
      "cell_type": "markdown",
      "source": [
        "7. **Write a code to determine if a string has all unique characters**.\n",
        "\n",
        "Python code to determine if a string has all unique characters:"
      ],
      "metadata": {
        "id": "28dIvv0CvIIf"
      }
    },
    {
      "cell_type": "code",
      "source": [
        "def has_unique_characters(s):\n",
        "    # Use a set to track characters we have already encountered\n",
        "    char_set = set()\n",
        "\n",
        "    for char in s:\n",
        "        if char in char_set:\n",
        "            return False  # Duplicate character found\n",
        "        char_set.add(char)\n",
        "\n",
        "    return True  # All characters are unique\n",
        "\n",
        "# Example usage\n",
        "string = \"abcdefg\"\n",
        "if has_unique_characters(string):\n",
        "    print(f'\"{string}\" has all unique characters.')\n",
        "else:\n",
        "    print(f'\"{string}\" does not have all unique characters.')\n"
      ],
      "metadata": {
        "id": "cmvNbqbPvgsw"
      },
      "execution_count": null,
      "outputs": []
    },
    {
      "cell_type": "markdown",
      "source": [
        "Explanation:\n",
        "\n",
        "1.Set Usage: A set is used because it does not allow duplicates.\n",
        "\n",
        "2.Loop: Iterate through each character in the string.\n",
        "\n",
        "*   If a character is already in the set, return False (indicating the string does not have all unique characters).\n",
        "*   Otherwise, add the character to the set.\n",
        "\n",
        "3.Return True: If no duplicates are found by the end of the loop, return True."
      ],
      "metadata": {
        "id": "7LNYkIEXv7YJ"
      }
    },
    {
      "cell_type": "markdown",
      "source": [
        "8.**Write a code to convert a given string to uppercase or lowercase**\n",
        "\n",
        "\n",
        "Python code to convert a given string to either uppercase or lowercase:"
      ],
      "metadata": {
        "id": "VLCJ5AUSwo9Z"
      }
    },
    {
      "cell_type": "code",
      "source": [
        "def convert_case(s, to_upper=True):\n",
        "    if to_upper:\n",
        "        return s.upper()  # Converts the string to uppercase\n",
        "    else:\n",
        "        return s.lower()  # Converts the string to lowercase\n",
        "\n",
        "# Example usage\n",
        "string = \"Hello, World!\"\n",
        "uppercase_string = convert_case(string, to_upper=True)\n",
        "lowercase_string = convert_case(string, to_upper=False)\n",
        "\n",
        "print(f'Original string: \"{string}\"')\n",
        "print(f'Uppercase string: \"{uppercase_string}\"')\n",
        "print(f'Lowercase string: \"{lowercase_string}\"')\n"
      ],
      "metadata": {
        "id": "hJnzvCP-0B-r"
      },
      "execution_count": null,
      "outputs": []
    },
    {
      "cell_type": "markdown",
      "source": [
        "Explanation:\n",
        "\n",
        "\n",
        "1.upper() Method: Converts the string to uppercase.\n",
        "\n",
        "2.lower() Method: Converts the string to lowercase.\n",
        "\n",
        "3.Parameter to_upper: Decides whether to convert the string to uppercase (True) or lowercase (False)."
      ],
      "metadata": {
        "id": "STjHSyNyxYDn"
      }
    },
    {
      "cell_type": "markdown",
      "source": [
        "9. **Write a code to count the number of words in a string.**\n",
        "\n",
        "Python code to count the number of words in a given string:\n",
        "\n"
      ],
      "metadata": {
        "id": "OXJtNCoS1rVr"
      }
    },
    {
      "cell_type": "code",
      "source": [
        "def count_words(s):\n",
        "    # Split the string by whitespace and filter out empty strings\n",
        "    words = s.split()\n",
        "    return len(words)\n",
        "\n",
        "# Example usage\n",
        "string = \"Hello, how are you doing today?\"\n",
        "word_count = count_words(string)\n",
        "print(f'Number of words in the string: {word_count}')\n"
      ],
      "metadata": {
        "id": "XTStPAps2FyO"
      },
      "execution_count": null,
      "outputs": []
    },
    {
      "cell_type": "markdown",
      "source": [
        "Explanation:\n",
        "\n",
        "\n",
        "1.split() Method: Splits the string into a list of words based on whitespace (spaces, tabs, etc.).\n",
        "\n",
        "2.len() Function: Returns the length of the list, which corresponds to the number of words in the string."
      ],
      "metadata": {
        "id": "jM-9bqgp2Hjr"
      }
    },
    {
      "cell_type": "markdown",
      "source": [
        "10. **Write a code to concatenate two strings without using the +operator.**\n",
        "\n",
        "\n",
        "Python code to concatenate two strings without using the + operator:"
      ],
      "metadata": {
        "id": "NzEyKxn62Mlh"
      }
    },
    {
      "cell_type": "code",
      "source": [
        "def concatenate_strings(str1, str2):\n",
        "    return str1.join([str2])\n",
        "\n",
        "# Example usage\n",
        "string1 = \"Hello\"\n",
        "string2 = \"World\"\n",
        "concatenated_string = concatenate_strings(string1, string2)\n",
        "print(f'Concatenated string: \"{concatenated_string}\"')\n"
      ],
      "metadata": {
        "id": "QdqwJaRN2ny_"
      },
      "execution_count": null,
      "outputs": []
    },
    {
      "cell_type": "markdown",
      "source": [
        "Explanation:\n",
        "\n",
        "\n",
        "* join() Method: This method is typically used to join elements of an iterable (like a list) with a string. We can use it here by creating a list with the second string and using the first string to join it (though the first string will not directly affect the result).\n"
      ],
      "metadata": {
        "id": "Tdm6fyK32qVR"
      }
    },
    {
      "cell_type": "markdown",
      "source": [
        "11. **Write a code to remove all occurences of a specific element from a list.**\n",
        "\n",
        "Python code to remove all occurrences of a specific element from a list:"
      ],
      "metadata": {
        "id": "QVcS28bO27ej"
      }
    },
    {
      "cell_type": "code",
      "source": [
        "def remove_all_occurrences(lst, element):\n",
        "    # Use list comprehension to create a new list without the specified element\n",
        "    return [item for item in lst if item != element]\n",
        "\n",
        "# Example usage\n",
        "my_list = [1, 2, 3, 4, 2, 5, 2]\n",
        "element_to_remove = 2\n",
        "new_list = remove_all_occurrences(my_list, element_to_remove)\n",
        "print(f'Original list: {my_list}')\n",
        "print(f'List after removing {element_to_remove}: {new_list}')\n"
      ],
      "metadata": {
        "id": "B5xY2u_13nZ3"
      },
      "execution_count": null,
      "outputs": []
    },
    {
      "cell_type": "markdown",
      "source": [
        "Explanation:\n",
        "\n",
        "\n",
        "1.List Comprehension: The code uses list comprehension to iterate over the list and creates a new list containing only those elements that are not equal to the specified element.\n",
        "\n",
        "2.Return New List: The new list without the specified element is returned."
      ],
      "metadata": {
        "id": "K1sQWcbd3pNr"
      }
    },
    {
      "cell_type": "markdown",
      "source": [
        "12.**Implement a code to find the second largest number in a given list of integers.**\n",
        "\n",
        "Python code to find the second largest number in a given list of integers:"
      ],
      "metadata": {
        "id": "B4OpzqS-3yRz"
      }
    },
    {
      "cell_type": "code",
      "source": [
        "def find_second_largest(lst):\n",
        "    # Remove duplicates and sort the list in descending order\n",
        "    unique_numbers = list(set(lst))\n",
        "    if len(unique_numbers) < 2:\n",
        "        return None  # Return None if there isn't a second largest number\n",
        "    unique_numbers.sort(reverse=True)\n",
        "    return unique_numbers[1]  # Return the second largest number\n",
        "\n",
        "# Example usage\n",
        "numbers = [10, 20, 20, 5, 15, 10]\n",
        "second_largest = find_second_largest(numbers)\n",
        "if second_largest is not None:\n",
        "    print(f'The second largest number is: {second_largest}')\n",
        "else:\n",
        "    print('There is no second largest number.')\n"
      ],
      "metadata": {
        "id": "2L68PJ80qWPL"
      },
      "execution_count": null,
      "outputs": []
    },
    {
      "cell_type": "markdown",
      "source": [
        "Explanation:\n",
        "\n",
        "\n",
        "1.Remove Duplicates: Use set() to remove duplicate numbers from the list.\n",
        "\n",
        "2.Sort in Descending Order: Sort the list of unique numbers in descending order.\n",
        "\n",
        "3.Return Second Largest: Access the second element in the sorted list (index 1).\n",
        "\n",
        "\n",
        "Edge Case:\n",
        "\n",
        "If the list has fewer than 2 unique numbers, the function returns None."
      ],
      "metadata": {
        "id": "OPCXPw3NqZPL"
      }
    },
    {
      "cell_type": "markdown",
      "source": [
        "13.**Create a code to count the occurences of each element in a list and return a dictionary with elements as key and their counts as values.**\n",
        "\n",
        "Python code to count the occurrences of each element in a list and return a dictionary:"
      ],
      "metadata": {
        "id": "I6tKZoNrsMzU"
      }
    },
    {
      "cell_type": "code",
      "source": [
        "def count_occurrences(lst):\n",
        "    # Use a dictionary to store counts\n",
        "    counts = {}\n",
        "    for element in lst:\n",
        "        if element in counts:\n",
        "            counts[element] += 1  # Increment count if element exists in dictionary\n",
        "        else:\n",
        "            counts[element] = 1  # Initialize count for a new element\n",
        "    return counts\n",
        "\n",
        "# Example usage\n",
        "my_list = [1, 2, 2, 3, 3, 3, 4, 4, 4, 4]\n",
        "occurrences = count_occurrences(my_list)\n",
        "print(f'Occurrences: {occurrences}')\n"
      ],
      "metadata": {
        "id": "z5mKo4bMtY3y"
      },
      "execution_count": null,
      "outputs": []
    },
    {
      "cell_type": "markdown",
      "source": [
        "Explanation:\n",
        "\n",
        "1.Dictionary for Counting: Use a dictionary to store elements as keys and their counts as values.\n",
        "2.Iterate Over List: For each element in the list:\n",
        "* If it exists in the dictionary, increment its count.\n",
        "* If it doesn't exist, add it to the dictionary with a count of 1.\n",
        "3.Return the Dictionary: The final dictionary contains all elements and their counts."
      ],
      "metadata": {
        "id": "QFGIf8VotbtU"
      }
    },
    {
      "cell_type": "markdown",
      "source": [
        "14.**Create a code to reverse a list in-place without using any built-in reverse functions.**\n",
        "\n",
        "Python code to reverse a list in-place without using any built-in reverse functions:"
      ],
      "metadata": {
        "id": "y41wSK-DuH65"
      }
    },
    {
      "cell_type": "code",
      "source": [
        "def reverse_list_in_place(lst):\n",
        "    left = 0\n",
        "    right = len(lst) - 1\n",
        "\n",
        "    # Swap elements from the start and end moving towards the center\n",
        "    while left < right:\n",
        "        lst[left], lst[right] = lst[right], lst[left]\n",
        "        left += 1\n",
        "        right -= 1\n",
        "\n",
        "# Example usage\n",
        "my_list = [1, 2, 3, 4, 5]\n",
        "print(f'Original list: {my_list}')\n",
        "reverse_list_in_place(my_list)\n",
        "print(f'Reversed list: {my_list}')\n"
      ],
      "metadata": {
        "id": "Z2Yc-GU2uxDm"
      },
      "execution_count": null,
      "outputs": []
    },
    {
      "cell_type": "markdown",
      "source": [
        "Explanation:\n",
        "1.Two-Pointer Approach:\n",
        "\n",
        "* Use two pointers, left starting at the beginning of the list and right at the end.\n",
        "* Swap the elements at these two pointers.\n",
        "* Move left forward and right backward.\n",
        "\n",
        "2. Stopping Condition:\n",
        "\n",
        "* Stop the process when left is no longer less than right, meaning all elements have been swapped."
      ],
      "metadata": {
        "id": "hOYoDQMpuzgn"
      }
    },
    {
      "cell_type": "markdown",
      "source": [
        "15.**Implement a code to find and remove duplicates from a list while preserving the original order of elements.**\n",
        "\n",
        "Python code to find and remove duplicates from a list while preserving the original order of elements:\n",
        "\n"
      ],
      "metadata": {
        "id": "AWtscQW4vCpo"
      }
    },
    {
      "cell_type": "code",
      "source": [
        "def remove_duplicates(lst):\n",
        "    seen = set()\n",
        "    result = []\n",
        "    for item in lst:\n",
        "        if item not in seen:\n",
        "            result.append(item)  # Add item to the result list if not seen\n",
        "            seen.add(item)      # Mark item as seen\n",
        "    return result\n",
        "\n",
        "# Example usage\n",
        "my_list = [1, 2, 2, 3, 4, 3, 5, 4, 6]\n",
        "unique_list = remove_duplicates(my_list)\n",
        "print(f'Original list: {my_list}')\n",
        "print(f'List after removing duplicates: {unique_list}')\n"
      ],
      "metadata": {
        "id": "c1hggwrXznd6"
      },
      "execution_count": null,
      "outputs": []
    },
    {
      "cell_type": "markdown",
      "source": [
        "Explanation:\n",
        "\n",
        "1.Set for Tracking:\n",
        "\n",
        "* Use a set called seen to track items that have already been encountered.\n",
        "\n",
        "2.Preserve Order:\n",
        "\n",
        "* Iterate through the list and add each unique item to a new result list in the order they appear.\n",
        "\n",
        "3.Final Result:\n",
        "\n",
        "*Return the result list, which contains only unique elements in their original order."
      ],
      "metadata": {
        "id": "PwtiyC7rzrbP"
      }
    },
    {
      "cell_type": "markdown",
      "source": [
        "16. **Create a code to check if a given list is shorted (either in ascending or descending order ) or not.**\n",
        "\n",
        "\n",
        "Python code snippet to check if a given list is sorted in either ascending or descending order:"
      ],
      "metadata": {
        "id": "QQ5cPwoiQu8g"
      }
    },
    {
      "cell_type": "code",
      "source": [
        "def is_sorted(lst):\n",
        "    if lst == sorted(lst):\n",
        "        return \"The list is sorted in ascending order.\"\n",
        "    elif lst == sorted(lst, reverse=True):\n",
        "        return \"The list is sorted in descending order.\"\n",
        "    else:\n",
        "        return \"The list is not sorted.\"\n",
        "\n",
        "# Example usage\n",
        "example_list = [8, 6, 4, 3, 1]\n",
        "print(is_sorted(example_list))\n",
        "\n"
      ],
      "metadata": {
        "colab": {
          "base_uri": "https://localhost:8080/"
        },
        "id": "V5VEkTMARNA2",
        "outputId": "7321b986-9e64-4e46-9367-b2f42ab39ff8"
      },
      "execution_count": null,
      "outputs": [
        {
          "output_type": "stream",
          "name": "stdout",
          "text": [
            "The list is sorted in descending order.\n"
          ]
        }
      ]
    },
    {
      "cell_type": "markdown",
      "source": [
        "**Explanation:**\n",
        "\n",
        "1.sorted(lst) checks if the list is sorted in ascending order.\n",
        "\n",
        "2.sorted(lst, reverse=True) checks if the list is sorted in descending order.\n",
        "\n",
        "3.If neither condition is met, the function concludes that the list is not sorted."
      ],
      "metadata": {
        "id": "pwWQfLesR-Xc"
      }
    },
    {
      "cell_type": "markdown",
      "source": [
        "**17. Write a code to merge two sorted lists into a single sorted list.**"
      ],
      "metadata": {
        "id": "-UWHoqBlSF15"
      }
    },
    {
      "cell_type": "code",
      "source": [
        "def merge_sorted_lists(list1, list2):\n",
        "    merged_list = []\n",
        "    i, j = 0, 0\n",
        "\n",
        "    # Merge both lists while elements remain in both\n",
        "    while i < len(list1) and j < len(list2):\n",
        "        if list1[i] < list2[j]:\n",
        "            merged_list.append(list1[i])\n",
        "            i += 1\n",
        "        else:\n",
        "            merged_list.append(list2[j])\n",
        "            j += 1\n",
        "\n",
        "    # Append remaining elements from list1\n",
        "    while i < len(list1):\n",
        "        merged_list.append(list1[i])\n",
        "        i += 1\n",
        "\n",
        "    # Append remaining elements from list2\n",
        "    while j < len(list2):\n",
        "        merged_list.append(list2[j])\n",
        "        j += 1\n",
        "\n",
        "    return merged_list\n",
        "\n",
        "# Example usage:\n",
        "list1 = [1, 3, 5, 7]\n",
        "list2 = [2, 4, 6, 8]\n",
        "print(merge_sorted_lists(list1, list2))  # Output: [1, 2, 3, 4, 5, 6, 7, 8]\n"
      ],
      "metadata": {
        "colab": {
          "base_uri": "https://localhost:8080/"
        },
        "id": "e0fEWBTYuNJC",
        "outputId": "c06db939-9102-4621-b156-2c83e6b65bea"
      },
      "execution_count": null,
      "outputs": [
        {
          "output_type": "stream",
          "name": "stdout",
          "text": [
            "[1, 2, 3, 4, 5, 6, 7, 8]\n"
          ]
        }
      ]
    },
    {
      "cell_type": "markdown",
      "source": [
        "18. **Implement a code to find the intersection of two given lists.**"
      ],
      "metadata": {
        "id": "gCHymnUOv3JP"
      }
    },
    {
      "cell_type": "code",
      "source": [
        "def find_intersection(list1, list2):\n",
        "    \"\"\"Returns the intersection of two lists.\"\"\"\n",
        "    return list(set(list1) & set(list2))\n",
        "\n",
        "# Example usage\n",
        "list1 = [1, 2, 3, 4, 5]\n",
        "list2 = [4, 5, 6, 7, 8]\n",
        "intersection = find_intersection(list1, list2)\n",
        "print(\"Intersection:\", intersection)\n"
      ],
      "metadata": {
        "colab": {
          "base_uri": "https://localhost:8080/"
        },
        "id": "DM0c_xzSHol8",
        "outputId": "d3cbfd9c-4983-4d85-ed0a-abdbdb4485ac"
      },
      "execution_count": null,
      "outputs": [
        {
          "output_type": "stream",
          "name": "stdout",
          "text": [
            "Intersection: [4, 5]\n"
          ]
        }
      ]
    },
    {
      "cell_type": "markdown",
      "source": [
        "19. **Create a code to find the union of two lists without duplicates**"
      ],
      "metadata": {
        "id": "Ix7nMSNXHxMV"
      }
    },
    {
      "cell_type": "code",
      "source": [
        "def union_without_duplicates(list1, list2):\n",
        "    \"\"\"Returns the union of two lists without duplicates.\"\"\"\n",
        "    return list(set(list1) | set(list2))\n",
        "\n",
        "# Example usage\n",
        "list1 = [1, 2, 3, 4]\n",
        "list2 = [3, 4, 5, 6]\n",
        "result = union_without_duplicates(list1, list2)\n",
        "print(result)  # Output: [1, 2, 3, 4, 5, 6]\n"
      ],
      "metadata": {
        "id": "dPE0JknFIjbd"
      },
      "execution_count": null,
      "outputs": []
    },
    {
      "cell_type": "markdown",
      "source": [
        "20. **Write a code to shuffle a given list randomly without using any built-in shuffle functions.**\n",
        "\n",
        "\n",
        "**Fisher-Yates Shuffle Algorithm:**"
      ],
      "metadata": {
        "id": "gZBsNa8AIkmx"
      }
    },
    {
      "cell_type": "code",
      "source": [
        "import random\n",
        "\n",
        "def shuffle_list(arr):\n",
        "    n = len(arr)\n",
        "    for i in range(n - 1, 0, -1):\n",
        "        j = random.randint(0, i)  # Generate a random index between 0 and i\n",
        "        arr[i], arr[j] = arr[j], arr[i]  # Swap elements\n",
        "\n",
        "# Example usage:\n",
        "my_list = [1, 2, 3, 4, 5, 6, 7, 8, 9]\n",
        "shuffle_list(my_list)\n",
        "print(\"Shuffled list:\", my_list)\n"
      ],
      "metadata": {
        "id": "RBqeIWO6Jtw9"
      },
      "execution_count": null,
      "outputs": []
    },
    {
      "cell_type": "markdown",
      "source": [
        "**Explanation:**\n",
        "\n",
        "1. Iterate from the last index of the list down to the second element.\n",
        "2. Generate a random index (j) between 0 and the current index (i).\n",
        "3. Swap the elements at indices i and j.\n",
        "4. Repeat until the entire list is shuffled."
      ],
      "metadata": {
        "id": "DJVhB0cnJ0gL"
      }
    },
    {
      "cell_type": "markdown",
      "source": [
        "21. **Write a code that takes two tuples as input and returns a new tuples containing elements that are common to both input tuples.**"
      ],
      "metadata": {
        "id": "7fGGW3CkKFF4"
      }
    },
    {
      "cell_type": "code",
      "source": [
        "def common_elements(tuple1, tuple2):\n",
        "    return tuple(set(tuple1) & set(tuple2))\n",
        "\n",
        "# Example usage\n",
        "tuple1 = (1, 2, 3, 4, 5)\n",
        "tuple2 = (3, 4, 5, 6, 7)\n",
        "result = common_elements(tuple1, tuple2)\n",
        "print(result)  # Output: (3, 4, 5)\n"
      ],
      "metadata": {
        "id": "JTRb__FySjP4"
      },
      "execution_count": null,
      "outputs": []
    },
    {
      "cell_type": "markdown",
      "source": [
        "**Explanation:**\n",
        "\n",
        "1. Convert both tuples into sets.\n",
        "2. Use the & (intersection) operator to find common elements.\n",
        "3. Convert the result back into a tuple."
      ],
      "metadata": {
        "id": "qlT9LI_ySk6E"
      }
    },
    {
      "cell_type": "markdown",
      "source": [
        "22. **Create a code that prompts the user to enter two sets of integers separated by commas. Then, print the intersection of these two sets.**\n",
        "\n"
      ],
      "metadata": {
        "id": "H9cutJQbzU3n"
      }
    },
    {
      "cell_type": "code",
      "source": [
        "def get_set_from_input(prompt):\n",
        "    return set(map(int, input(prompt).split(',')))\n",
        "\n",
        "# Prompt user for input\n",
        "set1 = get_set_from_input(\"Enter the first set of integers separated by commas: \")\n",
        "set2 = get_set_from_input(\"Enter the second set of integers separated by commas: \")\n",
        "\n",
        "# Find and print the intersection\n",
        "intersection = set1 & set2\n",
        "print(\"Intersection of the two sets:\", intersection)\n"
      ],
      "metadata": {
        "colab": {
          "base_uri": "https://localhost:8080/"
        },
        "id": "Lmv6brTm-VN3",
        "outputId": "e32efe20-0afe-4b48-dcf2-7c6eea3bb439"
      },
      "execution_count": null,
      "outputs": [
        {
          "output_type": "stream",
          "name": "stdout",
          "text": [
            "Enter the first set of integers separated by commas: 1,2,3,4,5\n",
            "Enter the second set of integers separated by commas: 3,4,5,6,7\n",
            "Intersection of the two sets: {3, 4, 5}\n"
          ]
        }
      ]
    },
    {
      "cell_type": "markdown",
      "source": [
        "23. **Write a code to concatenate two tuples. The function should take two tuples as input and return a new tuple containing elements from both input tuples**.\n"
      ],
      "metadata": {
        "id": "bsx3Fo6J-lhd"
      }
    },
    {
      "cell_type": "code",
      "source": [
        "def concatenate_tuples(tuple1, tuple2):\n",
        "    return tuple1 + tuple2  # Using the + operator to concatenate tuples\n",
        "\n",
        "# Example usage\n",
        "tuple1 = (1, 2, 3)\n",
        "tuple2 = (4, 5, 6)\n",
        "\n",
        "result = concatenate_tuples(tuple1, tuple2)\n",
        "print(\"Concatenated Tuple:\", result)\n"
      ],
      "metadata": {
        "colab": {
          "base_uri": "https://localhost:8080/"
        },
        "id": "JCaiG0hrWrZg",
        "outputId": "7ba7c7cd-9bb3-47e6-fa8f-a9e72c7019df"
      },
      "execution_count": null,
      "outputs": [
        {
          "output_type": "stream",
          "name": "stdout",
          "text": [
            "Concatenated Tuple: (1, 2, 3, 4, 5, 6)\n"
          ]
        }
      ]
    },
    {
      "cell_type": "markdown",
      "source": [
        "**Explanation:**\n",
        "\n",
        "1.The + operator is used to concatenate two tuples.\n",
        "\n",
        "2.The function concatenate_tuples() takes two tuples as input and returns a new tuple that contains elements from both.\n",
        "\n",
        "3.When you run the example, it will output:\n"
      ],
      "metadata": {
        "id": "o3lJDYHtWyfa"
      }
    },
    {
      "cell_type": "markdown",
      "source": [
        "24. **Develop a code that prompts the user to input two sets of strings. Then, print the elements that are present in the first set but not in the second set**"
      ],
      "metadata": {
        "id": "_q6gRnK0XS8w"
      }
    },
    {
      "cell_type": "code",
      "source": [
        "def get_set_from_input(prompt):\n",
        "    return set(input(prompt).split(','))  # Taking input and converting it into a set\n",
        "\n",
        "# Prompt user for input\n",
        "set1 = get_set_from_input(\"Enter the first set of strings separated by commas: \")\n",
        "set2 = get_set_from_input(\"Enter the second set of strings separated by commas: \")\n",
        "\n",
        "# Find the difference (elements in set1 but not in set2)\n",
        "difference = set1 - set2\n",
        "\n",
        "# Print the result\n",
        "print(\"Elements present in the first set but not in the second set:\", difference)\n"
      ],
      "metadata": {
        "colab": {
          "base_uri": "https://localhost:8080/"
        },
        "id": "nWTTrovrZDG9",
        "outputId": "a7a74d64-2cf4-4b91-f82e-c1758396aab4"
      },
      "execution_count": null,
      "outputs": [
        {
          "output_type": "stream",
          "name": "stdout",
          "text": [
            "Enter the first set of strings separated by commas: apple,grapes,banana.orange\n",
            "Enter the second set of strings separated by commas: papaya, banana,orange\n",
            "Elements present in the first set but not in the second set: {'banana.orange', 'apple', 'grapes'}\n"
          ]
        }
      ]
    },
    {
      "cell_type": "markdown",
      "source": [
        "25. **Create a code that takes a tuple and two integers as input. The function should return a new tuple containing elements from the original tuple within specified range of indices.**"
      ],
      "metadata": {
        "id": "1i-7iAtjn7V9"
      }
    },
    {
      "cell_type": "code",
      "source": [
        "def slice_tuple(input_tuple, start_index, end_index):\n",
        "    # Return sliced tuple within the given range\n",
        "    return input_tuple[start_index:end_index]\n",
        "\n",
        "# Example tuple\n",
        "sample_tuple = (10, 20, 30, 40, 50, 60, 70, 80, 90)\n",
        "\n",
        "# User input for start and end indices\n",
        "start = int(input(\"Enter the start index: \"))\n",
        "end = int(input(\"Enter the end index: \"))\n",
        "\n",
        "# Get the sliced tuple\n",
        "result_tuple = slice_tuple(sample_tuple, start, end)\n",
        "\n",
        "# Print result\n",
        "print(\"Sliced Tuple:\", result_tuple)\n"
      ],
      "metadata": {
        "colab": {
          "base_uri": "https://localhost:8080/"
        },
        "id": "TZqZirJepAWG",
        "outputId": "847e92f4-e995-4eff-de2c-cbc208bd0961"
      },
      "execution_count": 84,
      "outputs": [
        {
          "output_type": "stream",
          "name": "stdout",
          "text": [
            "Enter the start index: 4\n",
            "Enter the end index: 8\n",
            "Sliced Tuple: (50, 60, 70, 80)\n"
          ]
        }
      ]
    },
    {
      "cell_type": "markdown",
      "source": [
        "26.  **Write a code that prompts the user to input two sets of characters. Then, print the union of these two sets.**"
      ],
      "metadata": {
        "id": "PGlhiPbqpUHF"
      }
    },
    {
      "cell_type": "code",
      "source": [
        "# Function to find the union of two sets\n",
        "def union_of_sets(set1, set2):\n",
        "    return set1 | set2  # Using the union operator '|'\n",
        "\n",
        "# Prompt user for input\n",
        "set1 = set(input(\"Enter first set of characters (separated by commas): \").replace(\",\", \"\").strip())\n",
        "set2 = set(input(\"Enter second set of characters (separated by commas): \").replace(\",\", \"\").strip())\n",
        "\n",
        "# Compute union\n",
        "result = union_of_sets(set1, set2)\n",
        "\n",
        "# Print result\n",
        "print(\"Union of the sets:\", result)\n"
      ],
      "metadata": {
        "colab": {
          "base_uri": "https://localhost:8080/"
        },
        "id": "3sIpOfHeply0",
        "outputId": "6945713e-b085-451f-85c3-4c89dfb89d56"
      },
      "execution_count": 85,
      "outputs": [
        {
          "output_type": "stream",
          "name": "stdout",
          "text": [
            "Enter first set of characters (separated by commas): a,b,c,d\n",
            "Enter second set of characters (separated by commas): c,d,e,f\n",
            "Union of the sets: {'c', 'e', 'b', 'd', 'a', 'f'}\n"
          ]
        }
      ]
    },
    {
      "cell_type": "markdown",
      "source": [
        "27. **Develop a code that takes a tuple of integers as input. The function should return the maximum and minimum values from the tuple using tuple unpacking.**"
      ],
      "metadata": {
        "id": "F4h6tcO_pxOX"
      }
    },
    {
      "cell_type": "code",
      "source": [
        "def find_min_max(numbers):\n",
        "    # Find min and max values\n",
        "    min_value = min(numbers)\n",
        "    max_value = max(numbers)\n",
        "\n",
        "    # Return as a tuple using unpacking\n",
        "    return min_value, max_value\n",
        "\n",
        "# Example tuple\n",
        "sample_tuple = tuple(map(int, input(\"Enter integers separated by spaces: \").split()))\n",
        "\n",
        "# Get min and max values\n",
        "min_val, max_val = find_min_max(sample_tuple)\n",
        "\n",
        "# Print results\n",
        "print(f\"Minimum value: {min_val}\")\n",
        "print(f\"Maximum value: {max_val}\")\n"
      ],
      "metadata": {
        "colab": {
          "base_uri": "https://localhost:8080/"
        },
        "id": "fSabVGZKqOjq",
        "outputId": "a5f08cd7-bf32-4745-f13e-e14e931fe790"
      },
      "execution_count": 88,
      "outputs": [
        {
          "output_type": "stream",
          "name": "stdout",
          "text": [
            "Enter integers separated by spaces: 10 5 6\n",
            "Minimum value: 5\n",
            "Maximum value: 10\n"
          ]
        }
      ]
    },
    {
      "cell_type": "markdown",
      "source": [
        "28. **Create a code that defines two sets of integers. Then, print the union, intersection, and difference of these two sets.**"
      ],
      "metadata": {
        "id": "Mu9I3GmiqfDq"
      }
    },
    {
      "cell_type": "code",
      "source": [
        "# Define two sets of integers\n",
        "set1 = {1, 2, 3, 4, 5, 6}\n",
        "set2 = {4, 5, 6, 7, 8, 9}\n",
        "\n",
        "# Compute union, intersection, and difference\n",
        "union_set = set1 | set2  # OR set1.union(set2)\n",
        "intersection_set = set1 & set2  # OR set1.intersection(set2)\n",
        "difference_set = set1 - set2  # OR set1.difference(set2)\n",
        "\n",
        "# Print results\n",
        "print(\"Set 1:\", set1)\n",
        "print(\"Set 2:\", set2)\n",
        "print(\"Union:\", union_set)\n",
        "print(\"Intersection:\", intersection_set)\n",
        "print(\"Difference (Set1 - Set2):\", difference_set)\n"
      ],
      "metadata": {
        "colab": {
          "base_uri": "https://localhost:8080/"
        },
        "id": "wBPq7O9lquSG",
        "outputId": "d4a3591f-76da-41ab-d3bb-3465c0326fb9"
      },
      "execution_count": 89,
      "outputs": [
        {
          "output_type": "stream",
          "name": "stdout",
          "text": [
            "Set 1: {1, 2, 3, 4, 5, 6}\n",
            "Set 2: {4, 5, 6, 7, 8, 9}\n",
            "Union: {1, 2, 3, 4, 5, 6, 7, 8, 9}\n",
            "Intersection: {4, 5, 6}\n",
            "Difference (Set1 - Set2): {1, 2, 3}\n"
          ]
        }
      ]
    },
    {
      "cell_type": "markdown",
      "source": [
        "29. **Write a code that takes a tuple and an element as input. The function should return the count of occurrences of the given element in the tuple.**"
      ],
      "metadata": {
        "id": "ddK2xnnaq7w5"
      }
    },
    {
      "cell_type": "code",
      "source": [
        "def count_occurrences(tup, element):\n",
        "    return tup.count(element)  # Using tuple's count() method\n",
        "\n",
        "# Taking user input for the tuple\n",
        "user_tuple = tuple(map(int, input(\"Enter tuple elements separated by spaces: \").split()))\n",
        "\n",
        "# Taking user input for the element to count\n",
        "element_to_count = int(input(\"Enter the element to count: \"))\n",
        "\n",
        "# Get count of occurrences\n",
        "count = count_occurrences(user_tuple, element_to_count)\n",
        "\n",
        "# Print result\n",
        "print(f\"The element {element_to_count} appears {count} time(s) in the tuple.\")\n"
      ],
      "metadata": {
        "colab": {
          "base_uri": "https://localhost:8080/"
        },
        "id": "18kP8XkYrGh4",
        "outputId": "59439078-b410-4c95-b8bd-41305d61c615"
      },
      "execution_count": 90,
      "outputs": [
        {
          "output_type": "stream",
          "name": "stdout",
          "text": [
            "Enter tuple elements separated by spaces: 1 2 3 4 5 6 3 5  2 \n",
            "Enter the element to count: 4\n",
            "The element 4 appears 1 time(s) in the tuple.\n"
          ]
        }
      ]
    },
    {
      "cell_type": "markdown",
      "source": [
        "30. **Develop a code that prompts the user to input two sets of strings. Then, print the symmetric difference of these two sets.**"
      ],
      "metadata": {
        "id": "KbW7hkbWrbRf"
      }
    },
    {
      "cell_type": "code",
      "source": [
        "# Function to calculate symmetric difference\n",
        "def symmetric_difference(set1, set2):\n",
        "    return set1 ^ set2  # OR set1.symmetric_difference(set2)\n",
        "\n",
        "# Taking user input for two sets of strings\n",
        "set1 = set(input(\"Enter elements of the first set separated by spaces: \").split())\n",
        "set2 = set(input(\"Enter elements of the second set separated by spaces: \").split())\n",
        "\n",
        "# Compute symmetric difference\n",
        "sym_diff = symmetric_difference(set1, set2)\n",
        "\n",
        "# Print result\n",
        "print(\"Symmetric Difference:\", sym_diff)\n"
      ],
      "metadata": {
        "colab": {
          "base_uri": "https://localhost:8080/"
        },
        "id": "pI6db3UArsBC",
        "outputId": "8b8d698d-b37d-4ce0-cb13-fc82c54fcc4c"
      },
      "execution_count": 92,
      "outputs": [
        {
          "output_type": "stream",
          "name": "stdout",
          "text": [
            "Enter elements of the first set separated by spaces: apple pineapple mango \n",
            "Enter elements of the second set separated by spaces: mango orange apple\n",
            "Symmetric Difference: {'pineapple', 'orange'}\n"
          ]
        }
      ]
    },
    {
      "cell_type": "markdown",
      "source": [
        "31. **Write a code that takes a list of words as input and returns a dictionary where the keys are unique words  and the values are the frequencies of those words in the input list.**"
      ],
      "metadata": {
        "id": "wbn1_NSSxq2L"
      }
    },
    {
      "cell_type": "code",
      "source": [
        "def word_frequencies(word_list):\n",
        "    frequency_dict = {}\n",
        "\n",
        "    for word in word_list:\n",
        "        frequency_dict[word] = frequency_dict.get(word, 0) + 1\n",
        "\n",
        "    return frequency_dict\n",
        "\n",
        "words = [\"apple\", \"banana\", \"apple\", \"orange\", \"banana\", \"apple\"]\n",
        "\n",
        "print(word_frequencies(words))\n"
      ],
      "metadata": {
        "colab": {
          "base_uri": "https://localhost:8080/"
        },
        "id": "JODYdsnKDZyK",
        "outputId": "7fb32049-abe9-4646-d163-61972850007f"
      },
      "execution_count": 17,
      "outputs": [
        {
          "output_type": "stream",
          "name": "stdout",
          "text": [
            "{'apple': 3, 'banana': 2, 'orange': 1}\n"
          ]
        }
      ]
    },
    {
      "cell_type": "markdown",
      "source": [
        "32. **Write a code that takes two dictionaries as input and merges them into a single dictionary. If there are  common keys, the values should be added together.**\n"
      ],
      "metadata": {
        "id": "3YeJFQqEE_0e"
      }
    },
    {
      "cell_type": "code",
      "source": [
        "def merge_dictionaries(dict1, dict2):\n",
        "    merged_dict = {}  # Empty dictionary to store the result\n",
        "\n",
        "    for key, value in dict1.items():\n",
        "        merged_dict[key] = value\n",
        "\n",
        "    for key, value in dict2.items():\n",
        "        merged_dict[key] = merged_dict.get(key, 0) + value\n",
        "\n",
        "    return merged_dict  # Return the merged dictionary\n",
        "\n",
        "input_dict1 = {'banana': 1, 'apple': 2, 'mango': 3}\n",
        "input_dict2 = {'mango': 4, 'grapes': 5, 'orange': 6}\n",
        "\n",
        "result = merge_dictionaries(input_dict1, input_dict2)\n",
        "\n",
        "print(\"Merged Dictionary:\", result)\n"
      ],
      "metadata": {
        "colab": {
          "base_uri": "https://localhost:8080/"
        },
        "id": "sR2HNNmBMpZM",
        "outputId": "78a32696-deed-4782-d77e-5977eadda4cb"
      },
      "execution_count": 51,
      "outputs": [
        {
          "output_type": "stream",
          "name": "stdout",
          "text": [
            "Merged Dictionary: {'banana': 1, 'apple': 2, 'mango': 7, 'grapes': 5, 'orange': 6}\n"
          ]
        }
      ]
    },
    {
      "cell_type": "markdown",
      "source": [
        "33.  **Write a code to access a value in a nested dictionary. The function should take the dictionary and a list of  keys as input, and return the corresponding value. If any of the keys do not exist in the dictionary, the  function should return None.**\n"
      ],
      "metadata": {
        "id": "RiF31yKgPRgT"
      }
    },
    {
      "cell_type": "code",
      "source": [
        "def get_nested_value(nested_dict, keys):\n",
        "    value = nested_dict  # Start with main dictionary\n",
        "    for key in keys:\n",
        "        if isinstance(value, dict) and key in value:\n",
        "            value = value[key]  # Move deeper inside dictionary\n",
        "        else:\n",
        "            return None  # Return None if key is not found\n",
        "    return value  # Final value after accessing all keys\n",
        "\n",
        "data = {\n",
        "    \"product\": {\n",
        "        \"specifications\": {\n",
        "            \"brand\": \"Samsung\",\n",
        "            \"model\": \"Galaxy S21\",\n",
        "            \"storage\": {\n",
        "                \"RAM\": \"8GB\",\n",
        "                \"ROM\": \"128GB\"\n",
        "            }\n",
        "        }\n",
        "    }\n",
        "}\n",
        "\n",
        "print(get_nested_value(data, [\"product\", \"specifications\", \"brand\"]))\n",
        "print(get_nested_value(data, [\"product\", \"price\"]))\n",
        "print(get_nested_value(data, [\"product\", \"specifications\", \"storage\", \"color\"]))\n"
      ],
      "metadata": {
        "colab": {
          "base_uri": "https://localhost:8080/"
        },
        "id": "6MQdn47kQ4zY",
        "outputId": "d5abf675-717e-4841-97dd-f339e2df37e2"
      },
      "execution_count": 78,
      "outputs": [
        {
          "output_type": "stream",
          "name": "stdout",
          "text": [
            "Samsung\n",
            "None\n",
            "None\n"
          ]
        }
      ]
    },
    {
      "cell_type": "markdown",
      "source": [
        "34. **Write a code that takes a dictionary as input and returns a sorted version of it based on the values. You  can choose whether to sort in ascending or descending order.**"
      ],
      "metadata": {
        "id": "7U-KpaNulUA1"
      }
    },
    {
      "cell_type": "code",
      "source": [
        "def sort_dict_by_value(input_dict, ascending=True):\n",
        "    # Sort dictionary by values\n",
        "    sorted_items = sorted(input_dict.items(), key=lambda item: item[1], reverse=not ascending)\n",
        "    return dict(sorted_items)  # Convert sorted items back to dictionary\n",
        "\n",
        "# Example dictionary\n",
        "sample_dict = {\n",
        "    \"apple\": 10,\n",
        "    \"banana\": 5,\n",
        "    \"cherry\": 15,\n",
        "    \"date\": 8\n",
        "}\n",
        "\n",
        "# Prompt user for sorting order\n",
        "order = input(\"Sort in ascending order? (yes/no): \").strip().lower()\n",
        "ascending_order = order == \"yes\"  # Convert user input to boolean\n",
        "\n",
        "# Get sorted dictionary\n",
        "sorted_result = sort_dict_by_value(sample_dict, ascending_order)\n",
        "\n",
        "# Print result\n",
        "print(\"Sorted Dictionary:\", sorted_result)\n"
      ],
      "metadata": {
        "colab": {
          "base_uri": "https://localhost:8080/"
        },
        "id": "lXqwSCtqleH9",
        "outputId": "aea4a665-8b28-465b-f402-b8b17ba16006"
      },
      "execution_count": 79,
      "outputs": [
        {
          "output_type": "stream",
          "name": "stdout",
          "text": [
            "Sort in ascending order? (yes/no): yes\n",
            "Sorted Dictionary: {'banana': 5, 'date': 8, 'apple': 10, 'cherry': 15}\n"
          ]
        }
      ]
    },
    {
      "cell_type": "markdown",
      "source": [
        "35. **Write a code that inverts a dictionary, swapping keys and values. Ensure that the inverted dictionary correctly handles cases where multiple keys have the same value by storing the keys as a list in the inverted dictionary.**"
      ],
      "metadata": {
        "id": "99Bl3AycmDLD"
      }
    },
    {
      "cell_type": "code",
      "source": [
        "def invert_dictionary(input_dict):\n",
        "    inverted_dict = {}  # Initialize empty dictionary\n",
        "\n",
        "    for key, value in input_dict.items():\n",
        "        if value in inverted_dict:\n",
        "            inverted_dict[value].append(key)  # Append key to the existing list\n",
        "        else:\n",
        "            inverted_dict[value] = [key]  # Create a new list with the key\n",
        "\n",
        "    return inverted_dict\n",
        "\n",
        "# Example dictionary\n",
        "sample_dict = {\n",
        "    \"apple\": 10,\n",
        "    \"banana\": 5,\n",
        "    \"cherry\": 10,\n",
        "    \"date\": 8,\n",
        "    \"elderberry\": 5\n",
        "}\n",
        "\n",
        "# Get inverted dictionary\n",
        "inverted_result = invert_dictionary(sample_dict)\n",
        "\n",
        "# Print result\n",
        "print(\"Inverted Dictionary:\", inverted_result)\n"
      ],
      "metadata": {
        "colab": {
          "base_uri": "https://localhost:8080/"
        },
        "id": "ioffBs26miFp",
        "outputId": "901d566f-8335-4526-a97a-317f4ce7d88a"
      },
      "execution_count": 80,
      "outputs": [
        {
          "output_type": "stream",
          "name": "stdout",
          "text": [
            "Inverted Dictionary: {10: ['apple', 'cherry'], 5: ['banana', 'elderberry'], 8: ['date']}\n"
          ]
        }
      ]
    }
  ]
}