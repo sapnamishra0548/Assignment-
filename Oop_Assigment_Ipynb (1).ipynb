{
  "nbformat": 4,
  "nbformat_minor": 0,
  "metadata": {
    "colab": {
      "provenance": []
    },
    "kernelspec": {
      "name": "python3",
      "display_name": "Python 3"
    },
    "language_info": {
      "name": "python"
    }
  },
  "cells": [
    {
      "cell_type": "code",
      "execution_count": null,
      "metadata": {
        "id": "7XFkIYCITwt7"
      },
      "outputs": [],
      "source": []
    },
    {
      "cell_type": "markdown",
      "source": [
        "1. What are the five key concept of oop?\n",
        "\n",
        "\n",
        "There are following five key concepts of oop:-\n",
        "\n",
        "a) Class:- This is a blueprint or template that is used to create objects. This defines what properties (variable) and methods (functions) the object will have.\n",
        "\n",
        "b) Object:- An objet is a real world entity that is an instance of a class. Every object is uses the properties of its class.\n",
        "\n",
        "c) Encapsulation:- Encapsulation means bandagings data and methods into a single unit(class). Instead of directly accesing the data, it is controlled through methods, which increases security.\n",
        "\n",
        "d) Inheritance:- This is a process by which one class can inherit the properties and methods of another class. This resets the code.\n",
        "\n",
        "e) Polymorphism:- Pplymorphism means that the same method can be implemented by different object in their own way.\"Poly\" means \"many\" and \"morph\" means \"forms\".\n",
        "\n",
        "\n",
        "\n",
        "2. Write a python class for a 'car' with attributes for 'make', 'model', and 'year'. Include a method to display the car 's information.\n",
        "\n",
        "\n",
        "Here's a simple python class for a 'car' with attributes for 'make', 'model', and 'year'. Include a method to display the car 's information."
      ],
      "metadata": {
        "id": "oSVkQQ-pUONz"
      }
    },
    {
      "cell_type": "code",
      "source": [
        "class Car: # Changed 'car' to 'Car'\n",
        "    def __init__(self, make, model, year):\n",
        "        self.make = make   #manufacturer of the car, e.g., \"toyota\"\n",
        "        self.model = model #Model of the car , e.g., \"camery\"\n",
        "        self.year = year   #year of the car., e.g., 2022\n",
        "    def display_info(self): # Indented this function within the Car class\n",
        "        print(f\"Car Information:\\nMake: {self.make}\\nModel: {self.model}\\nYear: {self.year}\")\n",
        "\n",
        "# Example usage:\n",
        "my_car = Car(\"Toyota\", \"Camry\", 2022)\n",
        "my_car.display_info()"
      ],
      "metadata": {
        "colab": {
          "base_uri": "https://localhost:8080/"
        },
        "id": "0cXmNnRyc51Q",
        "outputId": "af0b5c79-92a8-42e1-a1b9-471be39b4215"
      },
      "execution_count": null,
      "outputs": [
        {
          "output_type": "stream",
          "name": "stdout",
          "text": [
            "Car Information:\n",
            "Make: Toyota\n",
            "Model: Camry\n",
            "Year: 2022\n"
          ]
        }
      ]
    },
    {
      "cell_type": "markdown",
      "source": [
        "3. Explain the diffeence between instance methods and class methods. Provide and example of each.\n",
        "\n",
        "\n",
        "Instance methods:- Instance methods are those methods which work with a specific object(instance). These methods take the self parameter as a first argument, which repesent the curent object.\n",
        "\n",
        "Use:- Instance methods are used when we have to work with object specific data.\n",
        "\n",
        "\n"
      ],
      "metadata": {
        "id": "vSDPV78Kf2u0"
      }
    },
    {
      "cell_type": "code",
      "source": [
        "class BankAccount:\n",
        "\n",
        "\n",
        "  def __init__(self, account_holder, balance = 0):\n",
        "    self.account_holder = account_holder   #Name of the account holder\n",
        "    self.balance = balance                 #Initial balance\n",
        "\n",
        "\n",
        "\n",
        "  def deposit(self,amount) : #instance method to deposit money\n",
        "    # The following two lines need to be indented to be part of the deposit function\n",
        "    self.balance += amount\n",
        "    print(f\"{amount} has been deposited. New Balance: {self.balance}\") # Fixed the f-string formatting\n",
        "\n",
        "    #creating an instance of bankaccount\n",
        "    account = BankAccount(Alice, 1000)\n",
        "\n",
        "\n",
        "    #calling the instance method to deposit money\n",
        "    account. deposit = 500  #Output: 500 has been deposited. New balance: 1500\n",
        "\n"
      ],
      "metadata": {
        "id": "gAJM9GxUqBLI"
      },
      "execution_count": null,
      "outputs": []
    },
    {
      "cell_type": "markdown",
      "source": [
        "Class Method:- Class methods are those methods which work with the class, not with any specific instance. These methods take the cls parameter as a first argument, which represents the current class.\n",
        "\n",
        "Use:- Class methods are used when we need class-level data or methods that are common to all objects.\n",
        "\n"
      ],
      "metadata": {
        "id": "JMIGmyXmsO8G"
      }
    },
    {
      "cell_type": "code",
      "source": [
        "class Student:\n",
        "    # Class attribute\n",
        "    school_name = \"Green Valley High School\"\n",
        "\n",
        "    def __init__(self, name, grade):\n",
        "        self.name = name  # Name of the student\n",
        "        self.grade = grade  # Grade of the student\n",
        "\n",
        "    # Class method to update the school name\n",
        "    @classmethod\n",
        "    def update_school_name(cls, new_name):\n",
        "        cls.school_name = new_name\n",
        "        print(f\"School name updated to: {cls.school_name}\")\n",
        "\n",
        "# Calling the class method to update school name\n",
        "Student.update_school_name(\"Blue Ridge High School\")\n",
        "\n",
        "# Creating a student instance\n",
        "student1 = Student(\"Alice\", \"10th Grade\")\n",
        "print(f\"Student: {student1.name}, Grade: {student1.grade}, School: {student1.school_name}\")\n",
        "\n",
        "# Output:\n",
        "# School name updated to: Blue Ridge High School\n",
        "# Student: Alice, Grade: 10th Grade, School: Blue Ridge High School"
      ],
      "metadata": {
        "colab": {
          "base_uri": "https://localhost:8080/"
        },
        "id": "cjVJdqRssj9v",
        "outputId": "1435b464-3499-4bba-c6e8-d2342fbe964e"
      },
      "execution_count": null,
      "outputs": [
        {
          "output_type": "stream",
          "name": "stdout",
          "text": [
            "School name updated to: Blue Ridge High School\n",
            "Student: Alice, Grade: 10th Grade, School: Blue Ridge High School\n"
          ]
        }
      ]
    },
    {
      "cell_type": "markdown",
      "source": [
        "4. How does python implement method overloading ? Give an examples.\n",
        "\n",
        "\n",
        "Traditional method overloading does not happen in python, as it happens in some other languages ​​(like Java, C++). Here we cannot directly define the name of the same method with different parameters. In Python, if we create methods with the same name, the last defined method will remain valid and the first one will be overwritten.\n",
        "\n",
        "Therefore, a few different techniques are used to achieve method overloading in Python, such as:\n",
        "\n",
        "Default Parameters: You can call the same method in different ways by setting default values.\n",
        "\n",
        "Using *args and **kwargs: This allows handling multiple arguments without overloading.\n",
        "\n",
        "Example: Method Overloading using Default Parameters\n",
        "\n"
      ],
      "metadata": {
        "id": "Is4Wc-yys9NL"
      }
    },
    {
      "cell_type": "code",
      "source": [
        "class MathOperations:\n",
        "    def add(self, a, b=0, c=0):\n",
        "        return a + b + c\n",
        "\n",
        "# Object creation\n",
        "math_op = MathOperations()\n",
        "\n",
        "# Different calls to the same method with varying arguments\n",
        "print(math_op.add(5))         # Output: 5 (only 'a' is provided)\n",
        "print(math_op.add(5, 10))     # Output: 15 (both 'a' and 'b' are provided)\n",
        "print(math_op.add(5, 10, 15)) # Output: 30 (all 'a', 'b', and 'c' are provided)\n"
      ],
      "metadata": {
        "colab": {
          "base_uri": "https://localhost:8080/"
        },
        "id": "dXAYX57Uu_ss",
        "outputId": "1260d3c6-cc8c-4e06-da99-1d4ee3ddc5f0"
      },
      "execution_count": null,
      "outputs": [
        {
          "output_type": "stream",
          "name": "stdout",
          "text": [
            "5\n",
            "15\n",
            "30\n"
          ]
        }
      ]
    },
    {
      "cell_type": "markdown",
      "source": [
        "Explanation:-  Here in add method we have given default parameters (b=0 and c=0). This way we can call add with different parameters, without defining different methods. If we call add(5), then the value of base a will be used, and if we call add(5, 10, 15), then the sum of two parameters will be used."
      ],
      "metadata": {
        "id": "RmXajLd_vOD8"
      }
    },
    {
      "cell_type": "code",
      "source": [
        "class MathOperations:\n",
        "    def add(self, *args):\n",
        "        return sum(args)\n",
        "\n",
        "# Object creation\n",
        "math_op = MathOperations()\n",
        "\n",
        "# Different calls to the same method with varying arguments\n",
        "print(math_op.add(5))           # Output: 5 (one argument)\n",
        "print(math_op.add(5, 10))       # Output: 15 (two arguments)\n",
        "print(math_op.add(5, 10, 15))   # Output: 30 (three arguments)\n"
      ],
      "metadata": {
        "colab": {
          "base_uri": "https://localhost:8080/"
        },
        "id": "iS3P6XIGvbns",
        "outputId": "c935b49b-a3bc-4752-c932-9ce3499d0231"
      },
      "execution_count": null,
      "outputs": [
        {
          "output_type": "stream",
          "name": "stdout",
          "text": [
            "5\n",
            "15\n",
            "30\n"
          ]
        }
      ]
    },
    {
      "cell_type": "markdown",
      "source": [
        "Explanation:- Here by using *args we can handle multiple arguments without overloading the method. *args creates a tuple that holds all the arguments, and using sum(args) we return their sum."
      ],
      "metadata": {
        "id": "FaOPifZUvgsM"
      }
    },
    {
      "cell_type": "markdown",
      "source": [
        "5. What are the three types of access modifiers in python? How are they denoted ?\n",
        "\n",
        "There are no access modifiers officially in Python, but through naming conventions we can define access levels. Teen main types of access modifiers are:\n",
        "\n",
        "1. Public:- Public variables and methods are those which are directly accessible from outside any class or code.\n"
      ],
      "metadata": {
        "id": "t4G3H5Bov0iW"
      }
    },
    {
      "cell_type": "code",
      "source": [
        "class Example:\n",
        "    def __init__(self):\n",
        "        self.name = \"Public Member\"  # Public attribute\n",
        "\n",
        "    def display(self):\n",
        "        print(self.name)  # Public method\n",
        "\n",
        "obj = Example()\n",
        "print(obj.name)  # Directly accessible\n",
        "obj.display()    # Directly accessible\n"
      ],
      "metadata": {
        "colab": {
          "base_uri": "https://localhost:8080/"
        },
        "id": "VbGV6VhAwR0E",
        "outputId": "c0c5c13d-9c7b-428a-a522-18aa66e680cc"
      },
      "execution_count": null,
      "outputs": [
        {
          "output_type": "stream",
          "name": "stdout",
          "text": [
            "Public Member\n",
            "Public Member\n"
          ]
        }
      ]
    },
    {
      "cell_type": "markdown",
      "source": [
        "Potected:- Protected variables and methods are those that are accessible only inside the class and its derived (subclass) classes."
      ],
      "metadata": {
        "id": "8GTtV1xzwV_6"
      }
    },
    {
      "cell_type": "code",
      "source": [
        "class Example:\n",
        "    def __init__(self):\n",
        "        self._name = \"Protected Member\"  # Protected attribute\n",
        "\n",
        "    def _display(self):  # Protected method\n",
        "        print(self._name)\n",
        "\n",
        "obj = Example()\n",
        "print(obj._name)         # Access kar sakte hain but not recommended\n",
        "obj._display()           # Access kar sakte hain but not recommended\n"
      ],
      "metadata": {
        "id": "HvGq02Kxwc4l"
      },
      "execution_count": null,
      "outputs": []
    },
    {
      "cell_type": "markdown",
      "source": [
        "Private:- Private variables and methods are accessible only within the class in which they are defined. Derived classes also cannot access them."
      ],
      "metadata": {
        "id": "oGEYWb3uwewl"
      }
    },
    {
      "cell_type": "code",
      "source": [
        "class Example:\n",
        "    def __init__(self):\n",
        "        self.__name = \"Private Member\"  # Private attribute\n",
        "\n",
        "    def __display(self):  # Private method\n",
        "        print(self.__name)\n",
        "\n",
        "obj = Example()\n",
        "# print(obj.__name)  # Error - AttributeError\n",
        "# obj.__display()    # Error - AttributeError\n"
      ],
      "metadata": {
        "id": "fbOwFoZiwmN6"
      },
      "execution_count": null,
      "outputs": []
    },
    {
      "cell_type": "markdown",
      "source": [
        "6. Describe the five types of inheritance in python. Provide a simple examples of multiple in heritance.\n",
        "\n",
        "\n",
        "There are 5 types of inheritance in Python. Inheritance allows one class to inherit the properties and methods of another class. These types are:\n",
        "\n",
        "1. Single Inheritance:- A single child class inherits from a single parent class."
      ],
      "metadata": {
        "id": "jZSS5r6pwp-F"
      }
    },
    {
      "cell_type": "code",
      "source": [
        "class Parent:\n",
        "    def display(self):\n",
        "        print(\"This is the Parent class\")\n",
        "\n",
        "class Child(Parent):\n",
        "    pass\n",
        "\n",
        "obj = Child()\n",
        "obj.display()  # Output: This is the Parent class\n"
      ],
      "metadata": {
        "id": "94sHCQtgxMrz"
      },
      "execution_count": null,
      "outputs": []
    },
    {
      "cell_type": "markdown",
      "source": [
        "2. Multiple Inheritance:- A child class inherits from two or more parent classes."
      ],
      "metadata": {
        "id": "bmBW0dJsxNmP"
      }
    },
    {
      "cell_type": "code",
      "source": [
        "class Parent1:\n",
        "    def func1(self):\n",
        "        print(\"This is Parent1\")\n",
        "\n",
        "class Parent2:\n",
        "    def func2(self):\n",
        "        print(\"This is Parent2\")\n",
        "\n",
        "class Child(Parent1, Parent2):\n",
        "    pass\n",
        "\n",
        "obj = Child()\n",
        "obj.func1()  # Output: This is Parent1\n",
        "obj.func2()  # Output: This is Parent2\n"
      ],
      "metadata": {
        "id": "IrIcdX-uxUcT"
      },
      "execution_count": null,
      "outputs": []
    },
    {
      "cell_type": "markdown",
      "source": [
        "3. Multilevel Inheritance:- Classes are inherited in a chain, in which a child class is from a parent class and is the parent of that parent class."
      ],
      "metadata": {
        "id": "Jb8Rx1crxXZo"
      }
    },
    {
      "cell_type": "code",
      "source": [
        "class Grandparent:\n",
        "    def func1(self):\n",
        "        print(\"This is Grandparent\")\n",
        "\n",
        "class Parent(Grandparent):\n",
        "    def func2(self):\n",
        "        print(\"This is Parent\")\n",
        "\n",
        "class Child(Parent):\n",
        "    pass\n",
        "\n",
        "obj = Child()\n",
        "obj.func1()  # Output: This is Grandparent\n",
        "obj.func2()  # Output: This is Parent\n"
      ],
      "metadata": {
        "id": "7li_eEjHxfWg"
      },
      "execution_count": null,
      "outputs": []
    },
    {
      "cell_type": "markdown",
      "source": [
        "Hierarchical Inheritance:- Multiple child classes inherit from the same parent class."
      ],
      "metadata": {
        "id": "MrKrHs-mxi5s"
      }
    },
    {
      "cell_type": "code",
      "source": [
        "class Parent:\n",
        "    def func1(self):\n",
        "        print(\"This is Parent\")\n",
        "\n",
        "class Child1(Parent):\n",
        "    pass\n",
        "\n",
        "class Child2(Parent):\n",
        "    pass\n",
        "\n",
        "obj1 = Child1()\n",
        "obj2 = Child2()\n",
        "obj1.func1()  # Output: This is Parent\n",
        "obj2.func1()  # Output: This is Parent\n"
      ],
      "metadata": {
        "id": "4a43ycOZxoeN"
      },
      "execution_count": null,
      "outputs": []
    },
    {
      "cell_type": "markdown",
      "source": [
        "Hybrid Inheritance:- Combination of multiple types of inheritance, such as a mix of hierarchical and multiple inheritance."
      ],
      "metadata": {
        "id": "GjQamLYHxrH8"
      }
    },
    {
      "cell_type": "code",
      "source": [
        "class Engine:\n",
        "    def engine_type(self):\n",
        "        print(\"This car has a V8 engine.\")\n",
        "\n",
        "class Body:\n",
        "    def body_type(self):\n",
        "        print(\"This car has a sedan body.\")\n",
        "\n",
        "class Car(Engine, Body):\n",
        "    def features(self):\n",
        "        print(\"Car features:\")\n",
        "\n",
        "# Creating an instance of Car\n",
        "my_car = Car()\n",
        "my_car.features()      # Output: Car features:\n",
        "my_car.engine_type()   # Output: This car has a V8 engine.\n",
        "my_car.body_type()     # Output: This car has a sedan body.\n"
      ],
      "metadata": {
        "id": "QZzHThtfxqwh"
      },
      "execution_count": null,
      "outputs": []
    },
    {
      "cell_type": "markdown",
      "source": [
        "7. What is the method of resolution order in python? How can you retrieve it programmatically ?\n",
        "\n",
        "Method resolution order (MRO) in Python is an algorithm that determines when we access a method or attribute, from which class Python will search for that method or attribute. This is particularly important when inheritance is used, such as in multiple inheritance situations.\n",
        "\n",
        "MRO Concept\n",
        "\n",
        "When we call a method on an object, Python first checks the class of the object, then the parent classes of that class, and so on until the method or attribute is not found. If the method is not found, Python raises an AttributeError.\n",
        "\n",
        "C3 Linearization Algorithm\n",
        "\n",
        "Python uses the C3 linear regression algorithm to determine the MRO. This algorithm ensures that:\n",
        "\n",
        "1.Parent class will be available first.\n",
        "\n",
        "2.The resolution will be in the order of the class we are inheriting from.\n",
        "\n",
        "3.The order of the parent classes is maintained.\n",
        "\n",
        "Example.\n"
      ],
      "metadata": {
        "id": "WQmNGyT4yAez"
      }
    },
    {
      "cell_type": "code",
      "source": [
        "class A:\n",
        "    def display(self):\n",
        "        print(\"Class A\")\n",
        "\n",
        "class B(A):\n",
        "    def display(self):\n",
        "        print(\"Class B\")\n",
        "\n",
        "class C(A):\n",
        "    def display(self):\n",
        "        print(\"Class C\")\n",
        "\n",
        "class D(B, C):\n",
        "    pass\n",
        "\n",
        "obj = D()\n",
        "obj.display()  # Output: Class B\n"
      ],
      "metadata": {
        "id": "uyWK7x3sy-rV"
      },
      "execution_count": null,
      "outputs": []
    },
    {
      "cell_type": "markdown",
      "source": [
        "Here D class is inheriting from B and C classes. If we call obj.display(), the output will be \"Class B\" because Class B comes first in the MRO.\n",
        "\n",
        "MRO Retrieve method\n",
        "\n",
        "To retrieve a MRO programmatically in Python, you can use the __MRO__ attribute or the MRO() method.\n",
        "\n",
        "Examples"
      ],
      "metadata": {
        "id": "qe4vBTloy_Zd"
      }
    },
    {
      "cell_type": "code",
      "source": [
        "print(D.__mro__)  # Output: (<class '__main__.D'>, <class '__main__.B'>, <class '__main__.C'>, <class '__main__.A'>, <class 'object'>)\n",
        "\n",
        "# Ya phir\n",
        "print(D.mro())  # Output: [<class '__main__.D'>, <class '__main__.B'>, <class '__main__.C'>, <class '__main__.A'>, <class 'object'>]\n"
      ],
      "metadata": {
        "id": "lR1y7hJrzw-1"
      },
      "execution_count": null,
      "outputs": []
    },
    {
      "cell_type": "markdown",
      "source": [
        "8. Create an abstract base class 'shape'with an abstract method 'area()'. Then create two subclasses 'Circle' and 'Rectangle' that implement the 'area()'method.\n",
        "\n",
        "\n",
        "Here's how you can create an abstract base class Shape with an abstract method area(), and then create two subclasses, Circle and Rectangle, that implement the area() method.\n",
        "\n",
        "Step 1: Create the Abstract Base Class\n",
        "\n",
        "We'll use the abc module to define the abstract base class.\n",
        "\n",
        "Code Implementation"
      ],
      "metadata": {
        "id": "15WZuM2DzyNr"
      }
    },
    {
      "cell_type": "code",
      "source": [
        "from abc import ABC, abstractmethod\n",
        "import math\n",
        "\n",
        "# Abstract base class\n",
        "class Shape(ABC):\n",
        "    @abstractmethod\n",
        "    def area(self):\n",
        "        pass\n",
        "\n",
        "# Subclass for Circle\n",
        "class Circle(Shape):\n",
        "    def __init__(self, radius):\n",
        "        self.radius = radius\n",
        "\n",
        "    def area(self):\n",
        "        return math.pi * (self.radius ** 2)  # Area of circle = πr²\n",
        "\n",
        "# Subclass for Rectangle\n",
        "class Rectangle(Shape):\n",
        "    def __init__(self, width, height):\n",
        "        self.width = width\n",
        "        self.height = height\n",
        "\n",
        "    def area(self):\n",
        "        return self.width * self.height  # Area of rectangle = width * height\n",
        "\n",
        "# Example usage\n",
        "circle = Circle(5)  # Circle with radius 5\n",
        "rectangle = Rectangle(4, 6)  # Rectangle with width 4 and height 6\n",
        "\n",
        "print(f\"Area of Circle: {circle.area()}\")        # Output: Area of Circle: 78.53981633974483\n",
        "print(f\"Area of Rectangle: {rectangle.area()}\")  # Output: Area of Rectangle: 24\n"
      ],
      "metadata": {
        "id": "tJsSiF8I0wbB"
      },
      "execution_count": null,
      "outputs": []
    },
    {
      "cell_type": "markdown",
      "source": [
        "9.Demonstrate Polymophism by creating a functions that can work with different shape objects to calculate and print their areas.\n",
        "\n",
        "Certainly! Polymorphism allows us to use objects of different classes through a common interface. In this case, we can create a function that works with different shape objects (like Circle and Rectangle) to calculate and print their areas.\n",
        "\n",
        "Here’s how you can implement this:\n",
        "\n"
      ],
      "metadata": {
        "id": "wF2uv01b0-_A"
      }
    },
    {
      "cell_type": "code",
      "source": [
        "from abc import ABC, abstractmethod\n",
        "import math\n",
        "\n",
        "# Abstract base class\n",
        "class Shape(ABC):\n",
        "    @abstractmethod\n",
        "    def area(self):\n",
        "        pass\n",
        "\n",
        "# Subclass for Circle\n",
        "class Circle(Shape):\n",
        "    def __init__(self, radius):\n",
        "        self.radius = radius\n",
        "\n",
        "    def area(self):\n",
        "        return math.pi * (self.radius ** 2)  # Area of circle = πr²\n",
        "\n",
        "# Subclass for Rectangle\n",
        "class Rectangle(Shape):\n",
        "    def __init__(self, width, height):\n",
        "        self.width = width\n",
        "        self.height = height\n",
        "\n",
        "    def area(self):\n",
        "        return self.width * self.height  # Area of rectangle = width * height\n",
        "\n",
        "# Function to calculate and print area\n",
        "def print_area(shape: Shape):\n",
        "    print(f\"Area: {shape.area()}\")\n",
        "\n",
        "# Example usage\n",
        "circle = Circle(5)         # Circle with radius 5\n",
        "rectangle = Rectangle(4, 6) # Rectangle with width 4 and height 6\n",
        "\n",
        "# Using the same function for different shape objects\n",
        "print_area(circle)        # Output: Area: 78.53981633974483\n",
        "print_area(rectangle)     # Output: Area: 24\n"
      ],
      "metadata": {
        "colab": {
          "base_uri": "https://localhost:8080/"
        },
        "id": "zzmCoUoL1ctX",
        "outputId": "11c8a6e5-1f28-4151-8729-d1f60bbd4dc8"
      },
      "execution_count": null,
      "outputs": [
        {
          "output_type": "stream",
          "name": "stdout",
          "text": [
            "Area: 78.53981633974483\n",
            "Area: 24\n"
          ]
        }
      ]
    },
    {
      "cell_type": "markdown",
      "source": [
        "10. Implement emcapsulation in a 'BankAccount' class with private attributes for 'balance' and 'account_number'. Include methods for deposit, withdrawl, and balance inquiry.\n",
        "\n",
        "Encapsulation is a fundamental concept in object-oriented programming that restricts direct access to some of an object's attributes. In Python, we can achieve this by using private attributes and providing public methods to access and modify them.\n",
        "\n",
        "Here’s an implementation of a BankAccount class that encapsulates the balance and account_number attributes, along with methods for depositing, withdrawing, and checking the balance:\n",
        "\n",
        "Code Implementation"
      ],
      "metadata": {
        "id": "SdXELNVR1ehQ"
      }
    },
    {
      "cell_type": "code",
      "source": [
        "class BankAccount:\n",
        "    def __init__(self, account_number, initial_balance=0):\n",
        "        self.__account_number = account_number  # Private attribute\n",
        "        self.__balance = initial_balance  # Private attribute\n",
        "\n",
        "    def deposit(self, amount):\n",
        "        if amount > 0:\n",
        "            self.__balance += amount\n",
        "            print(f\"Deposited: {amount}. New balance: {self.__balance}.\")\n",
        "        else:\n",
        "            print(\"Deposit amount must be positive.\")\n",
        "\n",
        "    def withdraw(self, amount):\n",
        "        if 0 < amount <= self.__balance:\n",
        "            self.__balance -= amount\n",
        "            print(f\"Withdrew: {amount}. New balance: {self.__balance}.\")\n",
        "        else:\n",
        "            print(\"Withdrawal amount must be positive and less than or equal to the current balance.\")\n",
        "\n",
        "    def get_balance(self):\n",
        "        return self.__balance\n",
        "\n",
        "    def account_info(self):\n",
        "        return f\"Account Number: {self.__account_number}, Balance: {self.__balance}\"\n",
        "\n",
        "\n",
        "# Example usage\n",
        "account = BankAccount(\"123456789\", 1000)  # Create a bank account with account number and initial balance\n",
        "\n",
        "# Deposit money\n",
        "account.deposit(500)  # Output: Deposited: 500. New balance: 1500.\n",
        "\n",
        "# Withdraw money\n",
        "account.withdraw(300)  # Output: Withdrew: 300. New balance: 1200.\n",
        "\n",
        "# Check balance\n",
        "print(f\"Current Balance: {account.get_balance()}\")  # Output: Current Balance: 1200\n",
        "\n",
        "# Print account information\n",
        "print(account.account_info())  # Output: Account Number: 123456789, Balance: 1200\n"
      ],
      "metadata": {
        "id": "a2isjyp82XIk"
      },
      "execution_count": null,
      "outputs": []
    },
    {
      "cell_type": "markdown",
      "source": [
        "11. write a class that overrides the '_ _ str _ _'and'_ _ add_ _' magic methods. what will these methods allow you to do ?\n",
        "\n",
        "The __str__ and __add__ magic methods in Python are special methods that enable custom behavior when an object is printed and when the + operator is used on objects of the class, respectively.\n",
        "\n",
        "Here's an explanation and example implementation:\n",
        "\n",
        "1.__str__ Magic Method:\n",
        "\n",
        "*   This method defines the string representation of an object, typically for readability or debugging.\n",
        "*   When you use str(object) or print(object), Python calls the __str__ method.\n",
        "\n",
        "2.__add__ Magic Method:\n",
        "\n",
        "*   This method allows you to define the behavior of the + operator for objects of the class.\n",
        "*   It's useful when you want to add two objects in a meaningful way (e.g., adding their attributes).\n",
        "\n"
      ],
      "metadata": {
        "id": "gUpB0ErR2cWQ"
      }
    },
    {
      "cell_type": "code",
      "source": [
        "class CustomClass:\n",
        "    def __init__(self, value):\n",
        "        self.value = value\n",
        "\n",
        "    def __str__(self):\n",
        "        # Custom string representation\n",
        "        return f\"CustomClass with value: {self.value}\"\n",
        "\n",
        "    def __add__(self, other):\n",
        "        # Custom addition behavior\n",
        "        if isinstance(other, CustomClass):\n",
        "            return CustomClass(self.value + other.value)\n",
        "        raise TypeError(\"Addition only supported between CustomClass instances\")\n",
        "\n",
        "# Example usage\n",
        "obj1 = CustomClass(10)\n",
        "obj2 = CustomClass(20)\n",
        "\n",
        "# String representation (__str__)\n",
        "print(obj1)  # Output: CustomClass with value: 10\n",
        "\n",
        "# Addition (__add__)\n",
        "obj3 = obj1 + obj2\n",
        "print(obj3)  # Output: CustomClass with value: 30\n"
      ],
      "metadata": {
        "colab": {
          "base_uri": "https://localhost:8080/"
        },
        "id": "gwpXW914wcev",
        "outputId": "1eae4842-f772-485c-f6d4-ffe0bf2caceb"
      },
      "execution_count": 1,
      "outputs": [
        {
          "output_type": "stream",
          "name": "stdout",
          "text": [
            "CustomClass with value: 10\n",
            "CustomClass with value: 30\n"
          ]
        }
      ]
    },
    {
      "cell_type": "markdown",
      "source": [
        "Explanation of the Methods\n",
        "\n",
        "1.__str__:\n",
        "\n",
        "*   Returns a string that describes the object (\"CustomClass with value: 10\").\n",
        "*   Helps make printed output more human-readable.\n",
        "\n",
        "2.__add__:\n",
        "\n",
        "*   Allows the use of + to combine obj1 and obj2 meaningfully by adding their value attributes.\n",
        "*   Raises a TypeError if you try to add an incompatible type.\n",
        "\n",
        "\n",
        "\n"
      ],
      "metadata": {
        "id": "tpTySAXIx1Qm"
      }
    },
    {
      "cell_type": "markdown",
      "source": [
        "12. Create a decorator that measures and prints the execution time of a function.\n",
        "\n",
        "Here's a Python decorator that measures and prints the execution time of a function:\n",
        "\n",
        "Code for the Decorator"
      ],
      "metadata": {
        "id": "BVQqfETOye2K"
      }
    },
    {
      "cell_type": "code",
      "source": [
        "import time\n",
        "\n",
        "def measure_time(func):\n",
        "    def wrapper(*args, **kwargs):\n",
        "        start_time = time.time()  # Record the start time\n",
        "        result = func(*args, **kwargs)  # Call the actual function\n",
        "        end_time = time.time()  # Record the end time\n",
        "        execution_time = end_time - start_time  # Calculate execution time\n",
        "        print(f\"Function '{func.__name__}' executed in {execution_time:.6f} seconds\")\n",
        "        return result\n",
        "    return wrapper\n"
      ],
      "metadata": {
        "id": "jjlwZ3z3zxwT"
      },
      "execution_count": null,
      "outputs": []
    },
    {
      "cell_type": "markdown",
      "source": [
        "How to Use the Decorator\n",
        "\n",
        "To use the @measure_time decorator, you simply add it above the function you want to measure:"
      ],
      "metadata": {
        "id": "1NA9EZaZz2d4"
      }
    },
    {
      "cell_type": "code",
      "source": [
        "@measure_time\n",
        "def example_function():\n",
        "    # Simulate a task that takes some time\n",
        "    for _ in range(10**6):\n",
        "        pass\n",
        "\n",
        "@measure_time\n",
        "def add_numbers(a, b):\n",
        "    return a + b\n",
        "\n",
        "# Example usage\n",
        "example_function()\n",
        "print(add_numbers(10, 20))\n"
      ],
      "metadata": {
        "id": "X7TbzrBNz77U"
      },
      "execution_count": null,
      "outputs": []
    },
    {
      "cell_type": "markdown",
      "source": [
        "Output\n",
        "\n",
        "When you run the above code, it will print the time taken by each function to execute. For example:"
      ],
      "metadata": {
        "id": "vtGIppAP0Bim"
      }
    },
    {
      "cell_type": "code",
      "source": [
        "Function 'example_function' executed in 0.041573 seconds\n",
        "Function 'add_numbers' executed in 0.000002 seconds\n"
      ],
      "metadata": {
        "id": "_IGsJykE1pMP"
      },
      "execution_count": null,
      "outputs": []
    },
    {
      "cell_type": "markdown",
      "source": [
        "Explanation of the Decorator\n",
        "\n",
        "1. measure_time(func):\n",
        "\n",
        "*   Takes the target function (func) as an argument.\n",
        "*   Wraps the function in a nested wrapper function.\n",
        "\n",
        "2.start_time and end_time:\n",
        "\n",
        "*   Record the time before and after the function execution using time.time().\n",
        "\n",
        "3.execution_time:\n",
        "\n",
        "*   Calculates the difference between end_time and start_time to get the execution time.\n",
        "\n",
        "4.Result:\n",
        "\n",
        "*   The decorator prints the execution time and returns the result of the function.\n",
        "\n",
        "\n",
        "\n",
        "\n",
        "\n",
        "\n",
        "\n"
      ],
      "metadata": {
        "id": "ZzJAj3Wm0Jh-"
      }
    },
    {
      "cell_type": "markdown",
      "source": [
        "13. Explain the concept of the diamond problem in multiple inheritance. How does python resolve it ?\n",
        "\n",
        "The Diamond Problem in Multiple Inheritance\n",
        "\n",
        "The diamond problem occurs in object-oriented programming when a class inherits from two classes that both inherit from a common base class. It leads to ambiguity about which version of a method or attribute from the common base class should be used.\n",
        "\n",
        "Structure of the Diamond Problem"
      ],
      "metadata": {
        "id": "Xo0tVNdc2Pfh"
      }
    },
    {
      "cell_type": "code",
      "source": [
        "    A\n",
        "   / \\\n",
        "  B   C\n",
        "   \\ /\n",
        "    D\n"
      ],
      "metadata": {
        "id": "VZpbe3pn2du6"
      },
      "execution_count": null,
      "outputs": []
    },
    {
      "cell_type": "markdown",
      "source": [
        "\n",
        "\n",
        "*   Class A is the common base class.\n",
        "*   Classes B and C inherit from A.\n",
        "*   Class D inherits from both B and C.\n",
        "\n",
        "If all the classes define a method with the same name (e.g., method), it becomes unclear which method should be executed when called from an object of D.\n",
        "\n",
        "How Python Resolves the Diamond Problem\n",
        "\n",
        "Python uses the Method Resolution Order (MRO) and the C3 Linearization Algorithm to resolve this ambiguity.\n",
        "\n",
        "1. MRO\n",
        "\n",
        "*   The MRO determines the order in which classes are searched for a method or attribute.\n",
        "*   It ensures that each class is only visited once and avoids redundant method calls.\n",
        "\n",
        "2.C3 Linearization:\n",
        "\n",
        "\n",
        "*   Combines the parent classes in a consistent order.\n",
        "*   It ensures that child classes override their parents’ methods in a predictable way.\n",
        "\n",
        "Example"
      ],
      "metadata": {
        "id": "6oo_kn212hi0"
      }
    },
    {
      "cell_type": "code",
      "source": [
        "class A:\n",
        "    def method(self):\n",
        "        print(\"Method from A\")\n",
        "\n",
        "class B(A):\n",
        "    def method(self):\n",
        "        print(\"Method from B\")\n",
        "\n",
        "class C(A):\n",
        "    def method(self):\n",
        "        print(\"Method from C\")\n",
        "\n",
        "class D(B, C):\n",
        "    pass\n",
        "\n",
        "d = D()\n",
        "d.method()\n"
      ],
      "metadata": {
        "id": "eIOQ2D6S35GB"
      },
      "execution_count": null,
      "outputs": []
    },
    {
      "cell_type": "markdown",
      "source": [
        "Output:"
      ],
      "metadata": {
        "id": "soCE3n8c4EC8"
      }
    },
    {
      "cell_type": "code",
      "source": [
        "Method from B\n"
      ],
      "metadata": {
        "id": "eKNewhuA4GoE"
      },
      "execution_count": null,
      "outputs": []
    },
    {
      "cell_type": "markdown",
      "source": [
        "**Explanation:**\n",
        "\n",
        "1.Python resolves the method using MRO:\n",
        "\n",
        "*   The MRO for D is [D, B, C, A, object].\n",
        "2. When d.method() is called:\n",
        "\n",
        "*   Python looks in D, then B, then C, and finally in A.\n",
        "\n",
        "**Accessing the MRO**\n",
        "\n",
        "You can inspect the MRO using:\n"
      ],
      "metadata": {
        "id": "xrI6afkR4PVu"
      }
    },
    {
      "cell_type": "code",
      "source": [
        "print(D.mro())\n"
      ],
      "metadata": {
        "id": "cU367UlX4uX4"
      },
      "execution_count": null,
      "outputs": []
    },
    {
      "cell_type": "markdown",
      "source": [
        "**Output:**"
      ],
      "metadata": {
        "id": "MxfgKi1a4xfF"
      }
    },
    {
      "cell_type": "code",
      "source": [
        "[<class '__main__.D'>, <class '__main__.B'>, <class '__main__.C'>, <class '__main__.A'>, <class 'object'>]\n"
      ],
      "metadata": {
        "id": "T_pFHJV_40yl"
      },
      "execution_count": null,
      "outputs": []
    },
    {
      "cell_type": "markdown",
      "source": [
        "**Key Advantages of Python's Approach**\n",
        "\n",
        "1. Deterministic Order\n",
        "\n",
        "*  The C3 Linearization guarantees a consistent and predictable order of method resolution.\n",
        "\n",
        "2.No Ambiguity:\n",
        "\n",
        "*  Python ensures no method is called twice in the MRO.\n",
        "\n",
        "3. Flexibility:\n",
        "\n",
        "*  Developers can override methods in intermediate classes to control the behavior.\n",
        "\n",
        "If the MRO is not appropriate for a specific use case, developers can explicitly call methods using super() or the class name:\n"
      ],
      "metadata": {
        "id": "S3r6RSdS4454"
      }
    },
    {
      "cell_type": "code",
      "source": [
        "super(B, self).method()  # Calls C's method in this case\n"
      ],
      "metadata": {
        "id": "LwmQbR0h5hBd"
      },
      "execution_count": null,
      "outputs": []
    },
    {
      "cell_type": "markdown",
      "source": [
        "14.  Write a class method that keeps track of the number of instances created from a class.\n",
        "\n",
        "To keep track of the number of instances created from a class, we can use a class variable that increments every time a new instance of the class is created. A class method can be used to access and manipulate this class-level variable.\n",
        "\n",
        "Here’s how to implement it:\n",
        "\n",
        "**Code:**"
      ],
      "metadata": {
        "id": "5zmboXCl6Da0"
      }
    },
    {
      "cell_type": "code",
      "source": [
        "class InstanceTracker:\n",
        "    instance_count = 0  # Class variable to track the number of instances\n",
        "\n",
        "    def __init__(self):\n",
        "        InstanceTracker.instance_count += 1  # Increment the count each time a new instance is created\n",
        "\n",
        "    @classmethod\n",
        "    def get_instance_count(cls):\n",
        "        # Class method to return the current instance count\n",
        "        return cls.instance_count\n",
        "\n",
        "# Example usage\n",
        "obj1 = InstanceTracker()\n",
        "obj2 = InstanceTracker()\n",
        "obj3 = InstanceTracker()\n",
        "\n",
        "print(InstanceTracker.get_instance_count())  # Output: 3\n"
      ],
      "metadata": {
        "id": "rdwVlSf66NMP"
      },
      "execution_count": null,
      "outputs": []
    },
    {
      "cell_type": "markdown",
      "source": [
        "**Explanation:**\n",
        "1.instance_count:\n",
        "\n",
        "*  A class variable is defined to store the count of instances. It is shared across all instances of the class.\n",
        "\n",
        "2. __init__ method:\n",
        "\n",
        "*  This is the constructor method. Each time a new object is created, the constructor is called, and the instance_count is incremented.\n",
        "\n",
        "3. get_instance_count:\n",
        "\n",
        "*  This is a class method (indicated by @classmethod). It takes the class (cls) as its first argument, not the instance (self). This method is used to access the class variable instance_count and return the current count.\n",
        "\n",
        "4. Example:\n",
        "\n",
        "*  When three instances (obj1, obj2, and obj3) are created, the instance_count is incremented each time, and the total count can be fetched using get_instance_count().\n",
        "\n",
        "**Output:**\n"
      ],
      "metadata": {
        "id": "EkURiuLq6j60"
      }
    },
    {
      "cell_type": "code",
      "source": [
        "3\n"
      ],
      "metadata": {
        "id": "QWQ3Dfb-7Slu"
      },
      "execution_count": null,
      "outputs": []
    },
    {
      "cell_type": "markdown",
      "source": [
        "15. Implement a static method in a class that checks if a given year is a leap year.\n",
        "\n",
        "A static method in a class doesn't require access to the instance (self) or the class (cls). It is used when the method performs an operation that doesn't need access to any instance-specific data or class-specific data, but still belongs logically to the class.\n",
        "\n",
        "To implement a static method that checks if a given year is a leap year, we can use the following rules:\n",
        "\n",
        "1. A year is a leap year if it is divisible by 4.\n",
        "2. However, if the year is divisible by 100, it is not a leap year unless it is also divisible by 400.\n",
        "\n",
        "**Code:**"
      ],
      "metadata": {
        "id": "Umm0Pm2O7opU"
      }
    },
    {
      "cell_type": "markdown",
      "source": [
        "class YearChecker:\n",
        "    \n",
        "    @staticmethod\n",
        "    def is_leap_year(year):\n",
        "        # Check if the given year is a leap year\n",
        "        if (year % 4 == 0 and year % 100 != 0) or (year % 400 == 0):\n",
        "            return True\n",
        "        else:\n",
        "            return False\n",
        "\n",
        "# Example usage\n",
        "print(YearChecker.is_leap_year(2024))  # Output: True (2024 is a leap year)\n",
        "print(YearChecker.is_leap_year(1900))  # Output: False (1900 is not a leap year)\n",
        "print(YearChecker.is_leap_year(2000))  # Output: True (2000 is a leap year)\n"
      ],
      "metadata": {
        "id": "5OlwuTIc8RBO"
      }
    },
    {
      "cell_type": "markdown",
      "source": [
        "**Explanation:**\n",
        "\n",
        "1. Static Method (@staticmethod):\n",
        "\n",
        "*  The method is_leap_year is defined as a static method using the @staticmethod decorator. This means it doesn't need an instance or a class to be called.\n",
        "\n",
        "2. Leap Year Logic:\n",
        "\n",
        "*  The method checks if the given year is divisible by 4 and either not divisible by 100 or divisible by 400.\n",
        "\n",
        "3. Example Usage:\n",
        "\n",
        "*  We can call YearChecker.is_leap_year(year) directly without creating an instance of the YearChecker class.\n",
        "\n",
        "**OUTPUT**\n"
      ],
      "metadata": {
        "id": "JTeLT1S_8YY4"
      }
    },
    {
      "cell_type": "code",
      "source": [
        "True\n",
        "False\n",
        "True\n"
      ],
      "metadata": {
        "id": "7GA-8Pq79ovP"
      },
      "execution_count": null,
      "outputs": []
    }
  ]
}