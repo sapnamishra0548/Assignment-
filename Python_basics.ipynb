{
  "nbformat": 4,
  "nbformat_minor": 0,
  "metadata": {
    "colab": {
      "provenance": []
    },
    "kernelspec": {
      "name": "python3",
      "display_name": "Python 3"
    },
    "language_info": {
      "name": "python"
    }
  },
  "cells": [
    {
      "cell_type": "markdown",
      "source": [
        "1. Explain the key features of python that make it a popular choice for programming.\n",
        "\n",
        "Python is popular due to its simplicity, versatility, and a rich ecosystem of libraries and tools. Here are some of its key features:\n",
        "\n",
        "1.**Simple and Easy to Learn:** Python’s syntax is clean and readable, which makes it easier for beginners to learn and understand. This simplicity also reduces the effort required to write code, making development faster.\n",
        "\n",
        "2.**Interpreted Language:** Python is an interpreted language, which means it executes code line by line, making it easier to test and debug. There's no need to compile code, which speeds up the development process.\n",
        "\n",
        "3.**Dynamic Typing:** In Python, variable types are determined at runtime, so you don’t have to declare the type explicitly. This flexibility makes code writing faster and more intuitive.\n",
        "\n",
        "4.**Extensive Standard Library:** Python has a large standard library, so you can use built-in modules and functions to handle everything from file I/O to web services without needing to write everything from scratch.\n",
        "\n",
        "5.**Cross-Platform Compatibility:** Python code can run on various operating systems, such as Windows, MacOS, and Linux, without requiring modifications. This cross-platform compatibility is ideal for developing software that works on multiple systems.\n",
        "\n",
        "6.**Support for Multiple Paradigms:** Python supports various programming paradigms like object-oriented, procedural, and functional programming, allowing developers to choose the style that best fits the task.\n",
        "\n",
        "7.Large Community and Ecosystem: Python has an active and supportive community, which means plenty of resources, libraries, and frameworks are available. This ecosystem includes libraries for data science (NumPy, Pandas), web development (Django, Flask), machine learning (TensorFlow, PyTorch), and more.\n",
        "\n",
        "8.Integration and Scripting Capabilities: Python can easily integrate with other languages like C, C++, and Java, and it’s often used as a scripting language to automate tasks or interface with complex applications.\n",
        "\n",
        "9.Open Source: Python is open-source, which means it's free to use, and there are no licensing fees. The Python Software Foundation (PSF) and a large developer community continuously improve it.\n",
        "\n",
        "10.Support for GUI Programming: Python provides libraries like Tkinter, PyQt, and Kivy for building graphical user interfaces (GUIs), making it versatile for desktop applications.\n"
      ],
      "metadata": {
        "id": "4bI0wIfYHEje"
      }
    },
    {
      "cell_type": "markdown",
      "source": [
        "2. Describe the role of predefined keywords in python and provide examples of how they are used in a program.\n",
        "\n",
        "Predefined keywords (also known as reserved words) have specific meanings and functions, and they play an essential role in defining the syntax and structure of the language. These keywords are reserved, meaning they cannot be used as identifiers (variable names, function names, etc.) because they serve specific purposes in Python.\n",
        "\n",
        "Examples:\n",
        "\n",
        "1. Control Flow Keywords: These keywords are used to control the execution flow of the program.\n",
        "\n",
        "*   if, elif, else: Used to make decisions in the code."
      ],
      "metadata": {
        "id": "XhS-ffy4IN1K"
      }
    },
    {
      "cell_type": "code",
      "source": [
        "x = 10\n",
        "if x > 5:\n",
        "    print(\"x is greater than 5\")\n",
        "elif x == 5:\n",
        "    print(\"x is 5\")\n",
        "else:\n",
        "    print(\"x is less than 5\")\n"
      ],
      "metadata": {
        "id": "nee-ZZV5IY7l"
      },
      "execution_count": null,
      "outputs": []
    },
    {
      "cell_type": "markdown",
      "source": [
        "* for, while: Used to create loops, allowing repeated execution of code blocks.\n"
      ],
      "metadata": {
        "id": "3zPDhUJfIZqW"
      }
    },
    {
      "cell_type": "code",
      "source": [
        "# Using 'for' loop\n",
        "for i in range(3):\n",
        "    print(\"Hello\", i)\n",
        "\n",
        "# Using 'while' loop\n",
        "count = 0\n",
        "while count < 3:\n",
        "    print(\"Count is:\", count)\n",
        "    count += 1\n"
      ],
      "metadata": {
        "id": "x_mqTmHhIv2N"
      },
      "execution_count": null,
      "outputs": []
    },
    {
      "cell_type": "markdown",
      "source": [
        "* break, continue: Control loop execution by breaking out of a loop or skipping an iteration.\n",
        "\n"
      ],
      "metadata": {
        "id": "JFLE_3STIxnE"
      }
    },
    {
      "cell_type": "code",
      "source": [
        "for i in range(5):\n",
        "    if i == 3:\n",
        "        break  # Stops the loop when i is 3\n",
        "    print(i)\n"
      ],
      "metadata": {
        "id": "BCsejV0bI4Ud"
      },
      "execution_count": null,
      "outputs": []
    },
    {
      "cell_type": "markdown",
      "source": [
        "2. **Function Definition Keywords:** Keywords used to define and manage functions.\n",
        "\n",
        "* def: Used to define a function.\n"
      ],
      "metadata": {
        "id": "-LVp68C0I981"
      }
    },
    {
      "cell_type": "code",
      "source": [
        "def greet(name):\n",
        "    print(\"Hello\", name)\n",
        "greet(\"Alice\")\n"
      ],
      "metadata": {
        "id": "J1HxsQpPJFEJ"
      },
      "execution_count": null,
      "outputs": []
    },
    {
      "cell_type": "markdown",
      "source": [
        "* return: Used to return a value from a function.\n"
      ],
      "metadata": {
        "id": "mbCq7RguJGGe"
      }
    },
    {
      "cell_type": "code",
      "source": [
        "def add(a, b):\n",
        "    return a + b\n",
        "result = add(5, 3)\n",
        "print(result)  # Output: 8\n"
      ],
      "metadata": {
        "id": "BQqFxJLoJLn7"
      },
      "execution_count": null,
      "outputs": []
    },
    {
      "cell_type": "markdown",
      "source": [
        "3. **Variable Management Keywords:** These keywords handle variable types and values.\n",
        "\n",
        "* None: Represents the absence of a value.\n"
      ],
      "metadata": {
        "id": "cj2GEd3ZJM2S"
      }
    },
    {
      "cell_type": "code",
      "source": [
        "value = None\n",
        "if value is None:\n",
        "    print(\"No value assigned\")\n"
      ],
      "metadata": {
        "id": "yXOVaUz3Jehr"
      },
      "execution_count": null,
      "outputs": []
    },
    {
      "cell_type": "markdown",
      "source": [
        "* True, False: Boolean values used in conditional expressions.\n"
      ],
      "metadata": {
        "id": "fCLP0DPWJf2s"
      }
    },
    {
      "cell_type": "code",
      "source": [
        "is_active = True\n",
        "if is_active:\n",
        "    print(\"The system is active\")\n"
      ],
      "metadata": {
        "id": "msjQIMA3Jk8h"
      },
      "execution_count": null,
      "outputs": []
    },
    {
      "cell_type": "markdown",
      "source": [
        "4. **Class and Object-Oriented Keywords:** Keywords related to defining classes and objects.\n",
        "\n",
        "* class: Used to define a class.\n"
      ],
      "metadata": {
        "id": "QYkuGu0xJmFu"
      }
    },
    {
      "cell_type": "code",
      "source": [
        "class Dog:\n",
        "    def bark(self):\n",
        "        print(\"Woof!\")\n",
        "my_dog = Dog()\n",
        "my_dog.bark()\n"
      ],
      "metadata": {
        "id": "z_sHh-Q1JxG0"
      },
      "execution_count": null,
      "outputs": []
    },
    {
      "cell_type": "markdown",
      "source": [
        "* Self: Refers to the instance of the class, used to access attributes and methods within a class.\n"
      ],
      "metadata": {
        "id": "yAhgE2_oJy24"
      }
    },
    {
      "cell_type": "markdown",
      "source": [
        "5. **Exception Handling Keywords:** Keywords used to handle errors and exceptions.\n",
        "\n",
        "* try, except, finally: Used for handling exceptions."
      ],
      "metadata": {
        "id": "uhI1LdgjJ9yL"
      }
    },
    {
      "cell_type": "code",
      "source": [
        "try:\n",
        "    result = 10 / 0\n",
        "except ZeroDivisionError:\n",
        "    print(\"Cannot divide by zero\")\n",
        "finally:\n",
        "    print(\"This will always execute\")\n"
      ],
      "metadata": {
        "id": "I5qHTEoTKjT3"
      },
      "execution_count": null,
      "outputs": []
    },
    {
      "cell_type": "markdown",
      "source": [
        "6. **Importing and Module Keywords:** Keywords used to import and include other modules or packages.\n",
        "\n",
        "* import, from, as: Used for importing modules."
      ],
      "metadata": {
        "id": "Jy40TD3iKkr-"
      }
    },
    {
      "cell_type": "code",
      "source": [
        "import math\n",
        "print(math.sqrt(16))  # Output: 4.0\n",
        "\n",
        "from math import pi as circle_pi\n",
        "print(circle_pi)  # Output: 3.141592653589793\n"
      ],
      "metadata": {
        "id": "FlXaMluhKy77"
      },
      "execution_count": null,
      "outputs": []
    },
    {
      "cell_type": "markdown",
      "source": [
        "7.**Logical Operators:** Keywords used for logical operations.\n",
        "\n",
        "* and, or, not: Used to combine or negate conditions.\n",
        "\n"
      ],
      "metadata": {
        "id": "dRKa1N9PK4hH"
      }
    },
    {
      "cell_type": "code",
      "source": [
        "a = True\n",
        "b = False\n",
        "print(a and b)  # Output: False\n",
        "print(a or b)   # Output: True\n",
        "print(not a)    # Output: False\n"
      ],
      "metadata": {
        "id": "mpX0HNn6LANq"
      },
      "execution_count": null,
      "outputs": []
    },
    {
      "cell_type": "markdown",
      "source": [
        "These predefined keywords are essential as they provide the fundamental building blocks for Python's syntax, allowing us to write clear and structured code. Each keyword has its defined use case, and understanding them is critical for effective Python programming."
      ],
      "metadata": {
        "id": "918ZfLV9LGk6"
      }
    },
    {
      "cell_type": "markdown",
      "source": [
        "3. Compare and contrast mutable and immutable objects in python with examples.\n",
        "\n",
        "Objects are classified as mutable or immutable based on whether they can be modified after creation. Understanding the difference between these two types of objects is essential for writing efficient and bug-free code.\n",
        "\n",
        "**Mutable Objects**\n",
        "\n",
        "Definition: Mutable objects are those that can be changed after they are created. Modifying a mutable object does not change its memory address (it stays the same object in memory).\n",
        "\n",
        "Examples of Mutable Objects: Lists, dictionaries, sets, and byte arrays are some examples of mutable objects.\n",
        "\n",
        "**Example:**"
      ],
      "metadata": {
        "id": "xTcYiwzELKuh"
      }
    },
    {
      "cell_type": "code",
      "source": [
        "# List (mutable)\n",
        "numbers = [1, 2, 3]\n",
        "print(id(numbers))  # Memory address before modification\n",
        "\n",
        "numbers.append(4)\n",
        "print(numbers)      # Output: [1, 2, 3, 4]\n",
        "print(id(numbers))  # Memory address remains the same\n"
      ],
      "metadata": {
        "id": "C5j7UcdpMMqV"
      },
      "execution_count": null,
      "outputs": []
    },
    {
      "cell_type": "markdown",
      "source": [
        "In this example, modifying the numbers list by appending a new element does not change its memory address."
      ],
      "metadata": {
        "id": "qvrpSFbXMNWz"
      }
    },
    {
      "cell_type": "markdown",
      "source": [
        "Immutable **Objects**\n",
        "\n",
        "Definition: Immutable objects cannot be changed after creation. Any attempt to modify an immutable object results in the creation of a new object with a new memory address.\n",
        "\n",
        "Examples of Immutable Objects: Integers, floats, strings, tuples, and frozen sets are examples of immutable objects.\n",
        "\n",
        "**Example:**"
      ],
      "metadata": {
        "id": "VR8Etz_0MP5N"
      }
    },
    {
      "cell_type": "code",
      "source": [
        "# String (immutable)\n",
        "text = \"hello\"\n",
        "print(id(text))  # Memory address before modification\n",
        "\n",
        "text += \" world\"  # Creates a new string object\n",
        "print(text)       # Output: \"hello world\"\n",
        "print(id(text))   # Memory address changes\n"
      ],
      "metadata": {
        "id": "bIvmyoGWMaJo"
      },
      "execution_count": null,
      "outputs": []
    },
    {
      "cell_type": "markdown",
      "source": [
        "In this case, appending to the string text creates a new string rather than modifying the existing one."
      ],
      "metadata": {
        "id": "tObMSjHBMcZO"
      }
    },
    {
      "cell_type": "markdown",
      "source": [
        "**Key Differences**"
      ],
      "metadata": {
        "id": "QBvaFZoTMdxk"
      }
    },
    {
      "cell_type": "markdown",
      "source": [
        "Feature\n",
        "\n",
        "> Mutable Objects\n",
        "\n",
        "> Immutable Objects\n"
      ],
      "metadata": {
        "id": "3Ws8_WOmNJ_X"
      }
    },
    {
      "cell_type": "markdown",
      "source": [
        "Modification\n",
        "\n",
        "\n",
        "> Mutable Objects:-Can be modified in place\n",
        "\n",
        "\n",
        "> Immutable Objects:-Cannot be modified; creates a new object\n",
        "\n",
        "\n",
        "\n"
      ],
      "metadata": {
        "id": "FpIAbd4xNNoR"
      }
    },
    {
      "cell_type": "markdown",
      "source": [
        "Memory Address\n",
        "\n",
        "\n",
        "> Mutable Objects:-Remains the same after modification\n",
        "\n",
        "> Immutable Objects:-Changes when \"modified\" (new object created)\n",
        "\n",
        "\n",
        "\n"
      ],
      "metadata": {
        "id": "eXml9okyNsir"
      }
    },
    {
      "cell_type": "markdown",
      "source": [
        "Examples\n",
        "\n",
        "\n",
        "> Mutable Objects:-Lists, dictionaries, sets\n",
        "\n",
        "> Immutable Objects:- Integers, floats, strings, tuples\n",
        "\n",
        "\n",
        "\n"
      ],
      "metadata": {
        "id": "Rrrbi5KYNOh4"
      }
    },
    {
      "cell_type": "markdown",
      "source": [
        "Usage\n",
        "\n",
        "> Mutable Objects:-Useful when modifications are needed\n",
        "\n",
        "> Immutable Objects:-Useful for fixed data that should remain constant\n"
      ],
      "metadata": {
        "id": "Ure5BFiSNRjM"
      }
    },
    {
      "cell_type": "markdown",
      "source": [
        "**Practical Implications**\n",
        "\n",
        "\n",
        "1.   Performance: For mutable objects, in-place changes are more efficient since they don’t require creating a new object.\n",
        "\n",
        "\n",
        "2.   Safety: Immutable objects are inherently thread-safe as they cannot be modified, making them useful in multi-threaded applications.\n",
        "\n",
        "\n",
        "3.  Data Integrity: Immutable objects ensure data integrity, particularly when passed as arguments to functions, as their values cannot be altered accidentally.\n",
        "\n",
        "\n",
        "\n"
      ],
      "metadata": {
        "id": "eSNCqWSbPHlS"
      }
    },
    {
      "cell_type": "markdown",
      "source": [
        "4. Discuss the different types of operators in Python and provide examples of how they are used.\n",
        "\n",
        "Python provides a variety of operators that allow you to perform different kinds of operations, from arithmetic calculations to logical comparisons. Here’s an overview of the different types of operators in Python and examples of how they are used:\n",
        "\n",
        "1. **Arithmetic Operators**\n",
        "\n",
        "Arithmetic operators are used to perform basic mathematical operations.\n",
        "\n",
        "* Addition (+): Adds two operands.\n",
        "\n",
        "* Subtraction (-): Subtracts the right operand from the left.\n",
        "\n",
        "* Multiplication (*): Multiplies two operands.\n",
        "* Division (/): Divides the left operand by the right; returns a float.\n",
        "\n",
        "* Floor Division (//): Divides the left operand by the right; returns an integer.\n",
        "* Modulus (%): Returns the remainder of the division.\n",
        "\n",
        "\n",
        "* Exponentiation (**): Raises the left operand to the power of the right.\n",
        "\n",
        "\n",
        "Examples:"
      ],
      "metadata": {
        "id": "vEb6MGeZPq6g"
      }
    },
    {
      "cell_type": "code",
      "source": [
        "a = 10\n",
        "b = 3\n",
        "print(a + b)  # Output: 13\n",
        "print(a - b)  # Output: 7\n",
        "print(a * b)  # Output: 30\n",
        "print(a / b)  # Output: 3.3333333333333335\n",
        "print(a // b) # Output: 3\n",
        "print(a % b)  # Output: 1\n",
        "print(a ** b) # Output: 1000\n"
      ],
      "metadata": {
        "id": "lk4bBZnRQ0Ge"
      },
      "execution_count": null,
      "outputs": []
    },
    {
      "cell_type": "markdown",
      "source": [
        "2.**Comparison Operators**\n",
        "\n",
        "Comparison operators are used to compare two values and return a Boolean (True or False).\n",
        "\n",
        "*   Equal to (==): Checks if two operands are equal.\n",
        "\n",
        "\n",
        "*   Not equal to (!=): Checks if two operands are not equal.\n",
        "\n",
        "\n",
        "*   Greater than (>): Checks if the left operand is greater.\n",
        "\n",
        "\n",
        "*   Less than (<): Checks if the left operand is less.\n",
        "\n",
        "\n",
        "*   Greater than or equal to (>=): Checks if the left operand is greater or equal.\n",
        "\n",
        "\n",
        "*   Less than or equal to (<=): Checks if the left operand is less or equal.\n",
        "\n",
        "\n",
        "Examples:"
      ],
      "metadata": {
        "id": "aSWbKM_nQ2Yo"
      }
    },
    {
      "cell_type": "code",
      "source": [
        "a = 5\n",
        "b = 10\n",
        "print(a == b)   # Output: False\n",
        "print(a != b)   # Output: True\n",
        "print(a > b)    # Output: False\n",
        "print(a < b)    # Output: True\n",
        "print(a >= b)   # Output: False\n",
        "print(a <= b)   # Output: True\n"
      ],
      "metadata": {
        "id": "PrBkexE3RT9L"
      },
      "execution_count": null,
      "outputs": []
    },
    {
      "cell_type": "markdown",
      "source": [
        "3. **Logical Operators**\n",
        "\n",
        "Logical operators are used to combine conditional statements.\n",
        "\n",
        "\n",
        "\n",
        "*   and: Returns True if both conditions are true.\n",
        "\n",
        "*   or: Returns True if at least one condition is true.\n",
        "\n",
        "*   not: Reverses the Boolean result.\n",
        "\n",
        "\n",
        "Examples:"
      ],
      "metadata": {
        "id": "UBWS3slGRVNw"
      }
    },
    {
      "cell_type": "code",
      "source": [
        "x = True\n",
        "y = False\n",
        "print(x and y)   # Output: False\n",
        "print(x or y)    # Output: True\n",
        "print(not x)     # Output: False\n"
      ],
      "metadata": {
        "id": "aRvvnQy3Rq1M"
      },
      "execution_count": null,
      "outputs": []
    },
    {
      "cell_type": "markdown",
      "source": [
        "4.**Assignment Operators**\n",
        "\n",
        "Assignment operators are used to assign values to variables and modify them.\n",
        "\n",
        "*   =: Assigns a value.\n",
        "\n",
        "*   +=, -=, etc.: Combines arithmetic and assignment.\n",
        "\n",
        "\n",
        "Examples:"
      ],
      "metadata": {
        "id": "r6uQ8S5pRr5e"
      }
    },
    {
      "cell_type": "code",
      "source": [
        "x = 5\n",
        "x += 3  # Equivalent to x = x + 3\n",
        "print(x)  # Output: 8\n",
        "\n",
        "x *= 2  # Equivalent to x = x * 2\n",
        "print(x)  # Output: 16\n"
      ],
      "metadata": {
        "id": "uKYHVV4jR-zW"
      },
      "execution_count": null,
      "outputs": []
    },
    {
      "cell_type": "markdown",
      "source": [
        "5. **Membership Operators**\n",
        "\n",
        "Membership operators test if a value exists within an iterable (e.g., list, tuple, string).\n",
        "\n",
        "*   in: Returns True if the value is in the iterable.\n",
        "*   not in: Returns True if the value is not in the iterable.\n",
        "\n",
        "Examples:\n",
        "\n"
      ],
      "metadata": {
        "id": "EZYivfOQR__9"
      }
    },
    {
      "cell_type": "code",
      "source": [
        "fruits = [\"apple\", \"banana\", \"cherry\"]\n",
        "print(\"apple\" in fruits)    # Output: True\n",
        "print(\"grape\" not in fruits)  # Output: True\n"
      ],
      "metadata": {
        "id": "bZFb7FGPSNr1"
      },
      "execution_count": null,
      "outputs": []
    },
    {
      "cell_type": "markdown",
      "source": [
        "6. **Special Operators**\n",
        "\n",
        "Python also has a few unique operators, such as the ternary conditional operator.\n",
        "\n",
        "*   Ternary operator (inline if-else): Used for single-line conditional expressions.\n",
        "\n",
        "\n",
        "Example:\n",
        "\n"
      ],
      "metadata": {
        "id": "ENY6dFT2SO_W"
      }
    },
    {
      "cell_type": "code",
      "source": [
        "age = 18\n",
        "status = \"Adult\" if age >= 18 else \"Minor\"\n",
        "print(status)  # Output: Adult\n"
      ],
      "metadata": {
        "id": "SywnNSzXScuE"
      },
      "execution_count": null,
      "outputs": []
    },
    {
      "cell_type": "markdown",
      "source": [
        "These operators allow Python developers to perform a wide range of operations, making them essential tools for writing expressive and powerful code."
      ],
      "metadata": {
        "id": "Ap90x3wgSe-o"
      }
    },
    {
      "cell_type": "markdown",
      "source": [
        "5. Explain the concept of type casting in python with examples.\n",
        "\n",
        "**Type Casting in Python**\n",
        "\n",
        "Type casting in Python refers to converting a variable from one data type to another. It allows developers to manage and manipulate data types effectively, ensuring compatibility and preventing errors during operations.\n",
        "\n",
        "**Types of Type Casting**\n",
        "1.**Implicit Type Casting**\n",
        "Python automatically converts one data type to another (usually from a smaller to a larger data type) during operations to avoid data loss.\n",
        "2.**Explicit Type Casting**\n",
        "The programmer explicitly converts a variable from one type to another using Python's built-in functions like int(), float(), str(), etc.\n",
        "1. **Implicit Type Casting**\n",
        "In implicit type casting, Python automatically handles type conversion without requiring the programmer's intervention. This typically happens when performing operations with mixed data types.\n",
        "**Example:**"
      ],
      "metadata": {
        "id": "gALGsU4iK3Kv"
      }
    },
    {
      "cell_type": "code",
      "source": [
        "# Implicit type casting\n",
        "num_int = 10       # Integer\n",
        "num_float = 3.5    # Float\n",
        "\n",
        "result = num_int + num_float\n",
        "print(result)       # Output: 13.5\n",
        "print(type(result)) # Output: <class 'float'>\n"
      ],
      "metadata": {
        "id": "O47VUSIgTixW"
      },
      "execution_count": null,
      "outputs": []
    },
    {
      "cell_type": "markdown",
      "source": [
        "Here, num_int (an integer) is automatically converted to a float to maintain precision during the addition."
      ],
      "metadata": {
        "id": "l2RKMB8RToTB"
      }
    },
    {
      "cell_type": "markdown",
      "source": [
        "2.**Explicit Type Casting**\n",
        "\n",
        "In explicit type casting, the programmer manually converts a variable's data type using type conversion functions. This is useful when Python cannot automatically handle the conversion or when specific control over data types is needed.\n",
        "\n",
        "**Common Type Casting Functions**"
      ],
      "metadata": {
        "id": "XsGzjj41TvV0"
      }
    },
    {
      "cell_type": "markdown",
      "source": [
        "Function\t            Description\n",
        "int()                 Converts a value to an integer\n",
        "float()               Converts a value to a floating-point number\n",
        "str()                 Converts a value to a string\n",
        "list()                Converts an iterable to a list\n",
        "tuple()               Converts an iterable to a tuple\n",
        "set()                 Converts an iterable to a set"
      ],
      "metadata": {
        "id": "dca3RElQUKuN"
      }
    },
    {
      "cell_type": "markdown",
      "source": [
        "Examples of Explicit Type Casting\n",
        "\n",
        "1.Integer to Float Conversion:"
      ],
      "metadata": {
        "id": "EC-R-6UCVLl9"
      }
    },
    {
      "cell_type": "code",
      "source": [
        "num = 5\n",
        "num_float = float(num)\n",
        "print(num_float)       # Output: 5.0\n",
        "print(type(num_float)) # Output: <class 'float'>\n"
      ],
      "metadata": {
        "id": "Gk4MMXa5VOjs"
      },
      "execution_count": null,
      "outputs": []
    },
    {
      "cell_type": "markdown",
      "source": [
        "  2.String to Integer Conversion:"
      ],
      "metadata": {
        "id": "xOrMsk5_VO-M"
      }
    },
    {
      "cell_type": "code",
      "source": [
        "str_num = \"100\"\n",
        "int_num = int(str_num)\n",
        "print(int_num)         # Output: 100\n",
        "print(type(int_num))   # Output: <class 'int'>\n"
      ],
      "metadata": {
        "id": "yA8c_-FZVUDI"
      },
      "execution_count": null,
      "outputs": []
    },
    {
      "cell_type": "markdown",
      "source": [
        "3.Float to Integer Conversion:\n",
        "\n",
        "*  This truncates the decimal part."
      ],
      "metadata": {
        "id": "_QJrhZw9VVIO"
      }
    },
    {
      "cell_type": "code",
      "source": [
        "num = 3.8\n",
        "num_int = int(num)\n",
        "print(num_int)         # Output: 3\n",
        "print(type(num_int))   # Output: <class 'int'>\n"
      ],
      "metadata": {
        "id": "DZVm1a5VVi_-"
      },
      "execution_count": null,
      "outputs": []
    },
    {
      "cell_type": "markdown",
      "source": [
        "4.String to List Conversion:"
      ],
      "metadata": {
        "id": "QzYJ0jUEVjfh"
      }
    },
    {
      "cell_type": "code",
      "source": [
        "name = \"Python\"\n",
        "name_list = list(name)\n",
        "print(name_list)       # Output: ['P', 'y', 't', 'h', 'o', 'n']\n"
      ],
      "metadata": {
        "id": "rsW_zLxHVr2Q"
      },
      "execution_count": null,
      "outputs": []
    },
    {
      "cell_type": "markdown",
      "source": [
        "5.List to Tuple Conversion:"
      ],
      "metadata": {
        "id": "QdGr8HB7VxP5"
      }
    },
    {
      "cell_type": "code",
      "source": [
        "fruits = [\"apple\", \"banana\", \"cherry\"]\n",
        "fruits_tuple = tuple(fruits)\n",
        "print(fruits_tuple)       # Output: ('apple', 'banana', 'cherry')\n"
      ],
      "metadata": {
        "id": "F-v9EbZIV1kL"
      },
      "execution_count": null,
      "outputs": []
    },
    {
      "cell_type": "markdown",
      "source": [
        "6.String to Float Conversion:"
      ],
      "metadata": {
        "id": "PDYAP9CtV2jt"
      }
    },
    {
      "cell_type": "code",
      "source": [
        "str_float = \"9.81\"\n",
        "num_float = float(str_float)\n",
        "print(num_float)         # Output: 9.81\n"
      ],
      "metadata": {
        "id": "8ayoYS3fV5TN"
      },
      "execution_count": null,
      "outputs": []
    },
    {
      "cell_type": "markdown",
      "source": [
        "7.Invalid Conversion Example:"
      ],
      "metadata": {
        "id": "k84J6a49V6uj"
      }
    },
    {
      "cell_type": "code",
      "source": [
        "str_value = \"hello\"\n",
        "try:\n",
        "    int_value = int(str_value)  # This raises ValueError\n",
        "except ValueError:\n",
        "    print(\"Cannot convert 'hello' to an integer.\")\n"
      ],
      "metadata": {
        "id": "jtJ3nWZBWGJd"
      },
      "execution_count": null,
      "outputs": []
    },
    {
      "cell_type": "markdown",
      "source": [
        "6. How do conditional statements work in python? Illustrate with examples.\n",
        "\n",
        "\n",
        "Conditional Statements in Python\n",
        "\n",
        "Conditional statements in Python allow you to execute specific blocks of code based on certain conditions. These are fundamental for decision-making in programming.\n",
        "\n",
        "**Key Conditional Statements in Python**\n",
        "1.if Statement\n",
        "\n",
        "Executes a block of code if a condition evaluates to True.\n",
        "\n",
        "2.if-else Statement\n",
        "\n",
        "Provides an alternative block of code to execute if the condition evaluates to False.\n",
        "\n",
        "3.if-elif-else Statement\n",
        "\n",
        "Allows multiple conditions to be checked in sequence. Only the first condition that evaluates to True will execute.\n",
        "\n",
        "4.Nested if Statements\n",
        "\n",
        "Includes if statements within other if statements to check multiple levels of conditions.\n",
        "\n",
        "\n",
        "Syntax and Examples\n",
        "\n",
        "1. if Statement\n",
        "\n",
        "Executes the block of code only if the condition is True.\n",
        "\n",
        "Syntax:"
      ],
      "metadata": {
        "id": "W6D3WJxyWHdF"
      }
    },
    {
      "cell_type": "code",
      "source": [
        "if condition:\n",
        "    # Block of code\n"
      ],
      "metadata": {
        "id": "7rYyydTBZR_e"
      },
      "execution_count": null,
      "outputs": []
    },
    {
      "cell_type": "markdown",
      "source": [
        "Example:"
      ],
      "metadata": {
        "id": "P8Z54GW8ZV_K"
      }
    },
    {
      "cell_type": "code",
      "source": [
        "age = 20\n",
        "if age >= 18:\n",
        "    print(\"You are eligible to vote.\")  # Output: You are eligible to vote.\n"
      ],
      "metadata": {
        "id": "_ii6y-9GZWrU"
      },
      "execution_count": null,
      "outputs": []
    },
    {
      "cell_type": "markdown",
      "source": [
        "2. if-else Statement\n",
        "\n",
        "Executes one block of code if the condition is True and another block if the condition is False.\n",
        "\n",
        "Syntax:"
      ],
      "metadata": {
        "id": "JXpaX_7jZY9i"
      }
    },
    {
      "cell_type": "code",
      "source": [
        "if condition:\n",
        "    # Block of code if condition is True\n",
        "else:\n",
        "    # Block of code if condition is False\n"
      ],
      "metadata": {
        "id": "OD2URjNCZejL"
      },
      "execution_count": null,
      "outputs": []
    },
    {
      "cell_type": "markdown",
      "source": [
        "Example:"
      ],
      "metadata": {
        "id": "_I8MOv3jZgCX"
      }
    },
    {
      "cell_type": "code",
      "source": [
        "age = 16\n",
        "if age >= 18:\n",
        "    print(\"You are eligible to vote.\")\n",
        "else:\n",
        "    print(\"You are not eligible to vote.\")  # Output: You are not eligible to vote.\n"
      ],
      "metadata": {
        "id": "gx6ZEXEnZk1C"
      },
      "execution_count": null,
      "outputs": []
    },
    {
      "cell_type": "markdown",
      "source": [
        "3. if-elif-else Statement\n",
        "\n",
        "\n",
        "Checks multiple conditions in sequence. The elif block allows you to test additional conditions if the previous ones are False.\n",
        "\n",
        "Syntax:"
      ],
      "metadata": {
        "id": "2Wy1ARXsZlVa"
      }
    },
    {
      "cell_type": "code",
      "source": [
        "if condition1:\n",
        "    # Block of code if condition1 is True\n",
        "elif condition2:\n",
        "    # Block of code if condition2 is True\n",
        "else:\n",
        "    # Block of code if all conditions are False\n"
      ],
      "metadata": {
        "id": "8cEwdrmPZrQQ"
      },
      "execution_count": null,
      "outputs": []
    },
    {
      "cell_type": "markdown",
      "source": [
        "Example:"
      ],
      "metadata": {
        "id": "XPK5N0NeZwpA"
      }
    },
    {
      "cell_type": "code",
      "source": [
        "marks = 85\n",
        "if marks >= 90:\n",
        "    print(\"Grade: A+\")\n",
        "elif marks >= 75:\n",
        "    print(\"Grade: A\")  # Output: Grade: A\n",
        "elif marks >= 50:\n",
        "    print(\"Grade: B\")\n",
        "else:\n",
        "    print(\"Grade: F\")\n"
      ],
      "metadata": {
        "id": "hrUrSSybZxB2"
      },
      "execution_count": null,
      "outputs": []
    },
    {
      "cell_type": "markdown",
      "source": [
        "4. Nested if Statements\n",
        "\n",
        "\n",
        "Allows if statements inside another if statement to test more complex conditions.\n",
        "\n",
        "\n",
        "Syntax:"
      ],
      "metadata": {
        "id": "r-SzhUXHZ17D"
      }
    },
    {
      "cell_type": "code",
      "source": [
        "if condition1:\n",
        "    if condition2:\n",
        "        # Block of code if both condition1 and condition2 are True\n"
      ],
      "metadata": {
        "id": "KRRyK8byZ7_S"
      },
      "execution_count": null,
      "outputs": []
    },
    {
      "cell_type": "markdown",
      "source": [
        "Example:"
      ],
      "metadata": {
        "id": "jRl6Qwy4Z8dt"
      }
    },
    {
      "cell_type": "code",
      "source": [
        "age = 20\n",
        "is_registered = True\n",
        "\n",
        "if age >= 18:\n",
        "    if is_registered:\n",
        "        print(\"You can vote.\")  # Output: You can vote.\n",
        "    else:\n",
        "        print(\"You need to register first.\")\n",
        "else:\n",
        "    print(\"You are not eligible to vote.\")\n"
      ],
      "metadata": {
        "id": "WlyWhSF5Z93w"
      },
      "execution_count": null,
      "outputs": []
    },
    {
      "cell_type": "markdown",
      "source": [
        "7. Describe the different types of loop in python and their use cases with examples.\n",
        "\n",
        "\n",
        "**Loops in Python**\n",
        "\n",
        "Loops in Python are used to execute a block of code repeatedly until a specified condition is met. Python provides two main types of loops:\n",
        "\n",
        "1.for Loop\n",
        "2.while Loop\n",
        "\n",
        "\n",
        "1. **for Loop**\n",
        "\n",
        "\n",
        "The for loop iterates over a sequence (like a list, tuple, string, or range) and executes the block of code for each element in the sequence.\n",
        "\n",
        "**Syntax:**"
      ],
      "metadata": {
        "id": "gsPCFsUEaWzU"
      }
    },
    {
      "cell_type": "code",
      "source": [
        "for variable in sequence:\n",
        "    # Block of code\n"
      ],
      "metadata": {
        "id": "h-DKNWuLbMdC"
      },
      "execution_count": null,
      "outputs": []
    },
    {
      "cell_type": "markdown",
      "source": [
        "**Use Cases:**\n",
        "\n",
        "1.Iterating through elements in a collection (list, tuple, etc.).\n",
        "2.Performing actions a specific number of times.\n",
        "3.Traversing strings or dictionaries.\n",
        "\n",
        "\n",
        "**Example 1: Iterating Through a List**"
      ],
      "metadata": {
        "id": "EAeJ0vKnbM77"
      }
    },
    {
      "cell_type": "code",
      "source": [
        "fruits = [\"apple\", \"banana\", \"cherry\"]\n",
        "for fruit in fruits:\n",
        "    print(fruit)\n",
        "# Output:\n",
        "# apple\n",
        "# banana\n",
        "# cherry\n"
      ],
      "metadata": {
        "id": "wr7K4pmLbPJB"
      },
      "execution_count": null,
      "outputs": []
    },
    {
      "cell_type": "markdown",
      "source": [
        "**Example 2: Using range()**"
      ],
      "metadata": {
        "id": "DQa_n838bm3_"
      }
    },
    {
      "cell_type": "code",
      "source": [
        "for i in range(5):\n",
        "    print(i)\n",
        "# Output:\n",
        "# 0\n",
        "# 1\n",
        "# 2\n",
        "# 3\n",
        "# 4\n"
      ],
      "metadata": {
        "id": "TIpg0fE1bohc"
      },
      "execution_count": null,
      "outputs": []
    },
    {
      "cell_type": "markdown",
      "source": [
        "**Example 3: Traversing a String**"
      ],
      "metadata": {
        "id": "z24hU3kCbqpb"
      }
    },
    {
      "cell_type": "code",
      "source": [
        "name = \"Python\"\n",
        "for letter in name:\n",
        "    print(letter)\n",
        "# Output:\n",
        "# P\n",
        "# y\n",
        "# t\n",
        "# h\n",
        "# o\n",
        "# n\n"
      ],
      "metadata": {
        "id": "4nVbisTTbuPt"
      },
      "execution_count": null,
      "outputs": []
    },
    {
      "cell_type": "markdown",
      "source": [
        "2. While Loop\n",
        "\n",
        "\n",
        "The while loop continues to execute a block of code as long as a specified condition is True.\n",
        "\n",
        "\n",
        "**Syntax:**"
      ],
      "metadata": {
        "id": "3AU1r5qEbvTM"
      }
    },
    {
      "cell_type": "code",
      "source": [
        "while condition:\n",
        "    # Block of code\n"
      ],
      "metadata": {
        "id": "SheGteX5b4r6"
      },
      "execution_count": null,
      "outputs": []
    },
    {
      "cell_type": "markdown",
      "source": [
        "Use Cases:\n",
        "\n",
        "*   Repeating actions until a condition changes.\n",
        "*   Creating infinite loops (with caution).\n",
        "*   Waiting for user input or a specific event.\n",
        "\n",
        "\n",
        "**Example 1: Simple Counter**"
      ],
      "metadata": {
        "id": "OnvtShR1b_sG"
      }
    },
    {
      "cell_type": "code",
      "source": [
        "count = 0\n",
        "while count < 5:\n",
        "    print(count)\n",
        "    count += 1\n",
        "# Output:\n",
        "# 0\n",
        "# 1\n",
        "# 2\n",
        "# 3\n",
        "# 4\n"
      ],
      "metadata": {
        "id": "C9XUvEtMdJyT"
      },
      "execution_count": null,
      "outputs": []
    },
    {
      "cell_type": "markdown",
      "source": [
        "**Example 2: User Input**"
      ],
      "metadata": {
        "id": "xEZkKVSTdMx0"
      }
    },
    {
      "cell_type": "code",
      "source": [
        "password = \"\"\n",
        "while password != \"python123\":\n",
        "    password = input(\"Enter the password: \")\n",
        "print(\"Access granted!\")\n"
      ],
      "metadata": {
        "id": "5SSEfdP7dOde"
      },
      "execution_count": null,
      "outputs": []
    },
    {
      "cell_type": "markdown",
      "source": [
        "**Special Statements in Loops**\n",
        "\n",
        "\n",
        "1. break\n",
        "Exits the loop prematurely when a condition is met.\n",
        "\n",
        "\n",
        "Example:"
      ],
      "metadata": {
        "id": "Np6xwroNdQdH"
      }
    },
    {
      "cell_type": "code",
      "source": [
        "for num in range(10):\n",
        "    if num == 5:\n",
        "        break\n",
        "    print(num)\n",
        "# Output:\n",
        "# 0\n",
        "# 1\n",
        "# 2\n",
        "# 3\n",
        "# 4\n"
      ],
      "metadata": {
        "id": "EbeckMEkdnbl"
      },
      "execution_count": null,
      "outputs": []
    },
    {
      "cell_type": "markdown",
      "source": [
        "2. continue\n",
        "\n",
        "\n",
        "Skips the current iteration and moves to the next one.\n",
        "\n",
        "\n",
        "Example:"
      ],
      "metadata": {
        "id": "Cmf5sVQCdruq"
      }
    },
    {
      "cell_type": "code",
      "source": [
        "for num in range(5):\n",
        "    if num == 2:\n",
        "        continue\n",
        "    print(num)\n",
        "# Output:\n",
        "# 0\n",
        "# 1\n",
        "# 3\n",
        "# 4\n",
        ""
      ],
      "metadata": {
        "id": "Gr5yUodIdt4P"
      },
      "execution_count": null,
      "outputs": []
    },
    {
      "cell_type": "markdown",
      "source": [
        "3. else with Loops\n",
        "\n",
        "\n",
        "The else block is executed when the loop finishes normally (i.e., without a break).\n",
        "\n",
        "\n",
        "Example:"
      ],
      "metadata": {
        "id": "7T30mMK6dw3L"
      }
    },
    {
      "cell_type": "code",
      "source": [
        "for num in range(5):\n",
        "    print(num)\n",
        "else:\n",
        "    print(\"Loop completed!\")  # Output: Loop completed!\n"
      ],
      "metadata": {
        "id": "MuajyI7ud0g9"
      },
      "execution_count": null,
      "outputs": []
    }
  ]
}