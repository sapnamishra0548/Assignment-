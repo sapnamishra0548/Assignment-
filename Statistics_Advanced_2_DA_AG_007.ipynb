{
  "nbformat": 4,
  "nbformat_minor": 0,
  "metadata": {
    "colab": {
      "provenance": []
    },
    "kernelspec": {
      "name": "python3",
      "display_name": "Python 3"
    },
    "language_info": {
      "name": "python"
    }
  },
  "cells": [
    {
      "cell_type": "markdown",
      "source": [
        "**Question 1: What is hypothesis testing in statistics?**\n",
        "\n",
        "Answer Hypothesis Testing in Statistics is a method used to make decisions or draw conclusions about a population based on sample data.\n",
        "It helps us check whether the assumption (hypothesis) we make about a population parameter (like mean, proportion, variance) is true or not.\n",
        "\n",
        "Key Steps of Hypothesis Testing: State the hypotheses\n",
        "Null Hypothesis (Ho): Assumes no effect or no difference (status quo).\n",
        "Alternative Hypothesis (H1): Assumes there is an effect or difference. Example:\n",
        "Ho: The average salary of employees = 50,000.\n",
        "Hl: The average salary of employees -:t   50,000.\n",
        "\n",
        "Set the significance level (a):\n",
        "Usually 0.05 (5%), meaning we allow a 5% chance of being wrong.\n",
        "\n",
        "Choose the test statistic:\n",
        "Depends on data and test type (e.g.-test, t-test, chi-square test, ANOVA).\n",
        "\n",
        "Calculate the p-value:\n",
        "Probability of getting the observed result if Ho is true.\n",
        "\n",
        "Make a decision:\n",
        "If p-value\ta -7 Reject Ho (evidence supports H,).\n",
        "If p-value > a -7 Fail to reject Ho (not enough evidence against Ho).\n",
        "\n",
        "\n",
        "Simple Example:\n",
        "Suppose a company claims the average life of its battery is 100 hours.\n",
        "Ho: µ = 100\n",
        "H1: µ -:t 100\n",
        "You test with a sample of 30 batteries. If the p-value is 0.02,and a = 0.05 -7 Reject Ho.\n",
        "Conclusion: The average battery life is not 100 hours.\n",
        "\n",
        "Types of Hypothesis Tests\n",
        "1.\tZ-Test -7 For large samples (n > 30) when population variance is known.\n",
        "2.\tT-Test -7 For small samples (n < 30) when variance is unknown.\n",
        "3.\tChi-Square Test -7 For categorical data (goodness of fit, independence).\n",
        "4.  ANOVA (Analysis of Variance) -7 For comparing means of more than two groups.\n",
        "\n",
        "\n",
        "Conclusion\n",
        "Hypothesis testing is a vital statistical tool for decision-making. It provides a systematic way to test assumptions, reduce uncertainty,and draw conclusions about populations based on sample evidence.\n"
      ],
      "metadata": {
        "id": "aSgO2gs5HGi5"
      }
    },
    {
      "cell_type": "markdown",
      "source": [
        "**Question 2: What is the null hypothesis, and how does it differ from the alternative hypothesis?**\n",
        "\n",
        "Answer Null Hypothesis and Alternative Hypothesis\n",
        "1.\tNull Hypothesis (Ho):\n",
        "•\tThe null hypothesis is an assumption that there is no effect, no difference, or no relationship in the population.\n",
        "•\tIt represents the existing belief or status quo.\n",
        "•\tThe purpose of hypothesis testing is usually to try to reject the null hypothesis. Example: A company claims that the average salary of its employees is   50,000.\n",
        "•\tHo: µ = 50,000 (average salary is 50,000).\n",
        "\n",
        "\n",
        "2.\tAlternative Hypothesis (H1 or Ha):\n",
        "•\tThe alternative hypothesis is the statement that contradicts the null hypothesis.\n",
        "•\tIt suggests that there is an effect, a difference, or a relationship.\n",
        "•\tIf evidence from the sample is strong enough, we reject Ho in favor of H,.\n",
        "Example:\n",
        "•\tH,: µ -:t 50,000 (average salary is not 50,000).\n",
        "\n",
        "\n",
        "3.\tKey Differences between Null and Alternative  Hypothesis\n",
        "from IPython.display import display, Markdown\n",
        "\n",
        "table = \"\"\"\n",
        "| Aspect              | Null Hypothesis (H₀)                       | Alternative Hypothesis (H₁)              |\n",
        "|---------------------|---------------------------------------------|------------------------------------------|\n",
        "| Meaning             | Assumes no effect or no difference.         | Assumes there is an effect or difference.|\n",
        "| Nature              | Represents status quo or existing condition.| Represents a new claim or research statement. |\n",
        "| Testing Objective   | To be rejected or retained after testing.   | To be accepted if H₀ is rejected.        |\n",
        "| Symbol              | H₀                                          | H₁ (or Ha)                               |\n",
        "| Example             | μ = 50,000                                  | μ ≠ 50,000                               |\n",
        "\"\"\"\n",
        "\n",
        "display(Markdown(table))\n",
        "\n",
        "\n",
        " 4.\tConclusion\n",
        "In hypothesis testing, the null hypothesis (Ho) assumes no change, while the alternative hypothesis (H1) proposes a possible change or difference. The goal of statistical testing is to analyze data and decide whether to reject Ho in favor of H,.\n"
      ],
      "metadata": {
        "id": "2d-bQgbjHtXy"
      }
    },
    {
      "cell_type": "markdown",
      "source": [
        "**Question 3: Explain the significance level in hypothesis testing and its role in deciding the outcome of a test.**\n",
        "\n",
        "Answer Significance Level in Hypothesis Testing\n",
        "1.\tDefinition\n",
        "The significance level,denoted by a (alpha), is the probability of rejecting the null hypothesis (Ho) when it is actually true.\n",
        "It represents the maximum risk or tolerance of making a Type Ierror (false positive).\n",
        "\n",
        "\n",
        "2.\tCommon Values of Significance Level\n",
        "•\ta = 0.05 (5%) -7 Most commonly used.\n",
        "•\ta = 0.01 (1%) -7 Stricter, used in highly sensitive experiments.\n",
        "•\ta = 0.10 (10%) -7 Sometimes used in exploratory studies.\n",
        "\n",
        "\n",
        "3.\tRole in Hypothesis Testing\n",
        "•\tThe significance level acts as a threshold to decide whether the observed data provides enough evidence to reject Ho.\n",
        "•\tIf the p-value S a,we reject Ho -7 evidence supports the alternative hypothesis.\n",
        "•\tIf the p-value > a,we fail to reject Ho -7 not enough evidence against Ho.\n",
        "\n",
        "\n",
        "4.\tExample\n",
        "Suppose a medicine company claims that its drug cures 90% of patients.\n",
        "•\tNull Hypothesis (Ho): Cure rate = 90%\n",
        "•\tAlternative Hypothesis (H,): Cure rate -:t. 90%\n",
        "•\tSignificance level: a = 0.05\n",
        "If the test gives a p-value = 0.03, since 0.03 < 0.05, we reject Ho. Conclusion: The cure rate is not 90%.\n",
        "\n",
        "\n",
        "5.\tImportance of Significance Level\n",
        "•\tControls the risk of making wrong decisions.\n",
        "•\tProvides a balance between accuracy and practicality.\n",
        "•\tEnsures consistency in hypothesis testing across studies.\n",
        "\n",
        "\n",
        "6.\tConclusion\n",
        "The significance level (a) is a crucial component of hypothesis testing. It sets the probability of making an error and acts as a cut-off for decision-making. By comparing the p-value with a, researchers can decide whether to accept or reject the null hypothesis with confidence.\n"
      ],
      "metadata": {
        "id": "5uBOVRV9JNDK"
      }
    },
    {
      "cell_type": "markdown",
      "source": [
        "**Question 4: What are Type Iand Type II errors? Give examples of each.**\n",
        "\n",
        "Answer Type Iand Type II Errors in Hypothesis Testing\n",
        "1.\tIntroduction\n",
        "In hypothesis testing, decisions are made based on sample data. However,sometimes these decisions may be incorrect. Such incorrect decisions are known as errors in hypothesis testing. The two main types are Type Ierror and Type II error.\n",
        "\n",
        "\n",
        "2.\tType I Error (False Positive)\n",
        "•\tA Type Ierror occurs when the null hypothesis (Ho) is true, but we reject it.\n",
        "•\tIn simple terms, it means detecting an effect or difference that does not actually exist.\n",
        "•\tProbability of Type I error = a (significance level). Example:\n",
        "A medical test for a disease wrongly shows that a healthy person has the disease.\n",
        "•\tReality: Person is healthy (Ho true).\n",
        "•\tDecision: Test says person is sick (Ho rejected).\n",
        "\n",
        "\n",
        "3.\tType II Error (False Negative)\n",
        "•\tA Type II error occurs when the null hypothesis (Ho) is false, but we fail to reject it.\n",
        "•\tIt means failing to detect an effect or difference that actually exists.\n",
        "•\tProbability of Type II error = 13 (beta). Example:\n",
        "A medical test fails to detect the disease in a person who is actually sick.\n",
        "•\tReality: Person is sick (Ho false).\n",
        "•\tDecision: Test says person is healthy (Ho not rejected).\n",
        "\n",
        "\n",
        "\n",
        "4.\tComparison Table Aspect\tType I Error\n",
        "Definition   Rejecting Ho when it is true Also called False Positive\n",
        "Probability a (significance level)\n",
        "\n",
        "\n",
        "\n",
        "Type II Error\n",
        "Failing to reject Ho when it is false False Negative\n",
        "(power of the test = 1- )\n",
        "\n",
        "Impact\tConcludes an effect exists when it doesn't Misses a real effect or difference Example\tHealthy person diagnosed as sick\tSick person diagnosed as healthy\n",
        "\n",
        "\n",
        "5.\tConclusion\n",
        "Both Type Iand Type II errors represent risks in hypothesis testing.\n",
        "•\tType I error -7 Concluding something is true when it is not.\n",
        "•\tType II error -7 Missing something that is actually true.\n",
        "A good test aims to minimize both errors to make reliable decisions.\n"
      ],
      "metadata": {
        "id": "FxzynM1IJTVD"
      }
    },
    {
      "cell_type": "markdown",
      "source": [
        "**Question 5: What is the difference between a Z-test and a T-test? Explain when to use each.**\n",
        "\n",
        "Difference Between Z-Test and T-Test\n",
        "1.\tIntroduction\n",
        "Both Z-test and T-test are statistical tests used in hypothesis testing to determine whether there is a significant difference between sample data and population parameters. The choice between the two depends on sample size and knowledge of population variance.\n",
        "\n",
        "\n",
        "2.\tZ-Test\n",
        "•\tThe Z-test is used when:\n",
        "1.  The sample size is large (n > 30).\n",
        "2.  The population variance (a2) is known.\n",
        "•\tIt is based on the standard normal distribution (Z-distribution).\n",
        "Example: Testing whether the average height of 100 students (large sample) is equal to 160 cm when the population variance is known.\n",
        "3.\tT-Test\n",
        "•\tThe T-test is used when:\n",
        "1.  The sample size is small (n < 30).\n",
        "2.   The population variance is unknown.\n",
        "•\tIt is based on the Student's t-distribution, which is wider and has heavier tails than the normal distribution.\n",
        "Example: Testing whether the average marks of 15 students (small sample) is equal to 60 when the population variance is unknown.\n",
        "\n",
        "\n",
        "\n",
        "4.\tKey Differences Between Z-Test and T-Test Aspect\tZ-Test\n",
        "from IPython.display import display, Markdown\n",
        "\n",
        "\n",
        "| Aspect             | Z-Test                                         | T-Test                                                  |\n",
        "|--------------------|-----------------------------------------------|---------------------------------------------------------|\n",
        "| Sample Size        | Large sample (n > 30)                         | Small sample (n < 30)                                   |\n",
        "| Population Variance| Known                                          | Unknown                                                 |\n",
        "| Distribution Used  | Standard Normal Distribution (Z)              | Student's t-Distribution                                |\n",
        "| Curve Shape        | Narrow, symmetric                             | Wider, heavier tails                                    |\n",
        "| Use Case           | Comparing sample mean with population mean when σ is known | Comparing sample mean with population mean when σ is unknown |\n",
        "\"\"\"\n",
        "\n",
        "5.\tWhen to Use Each Test\n",
        "•\tUse Z-Test -7 when sample size is large and population variance is known.\n",
        "•\tUse T-Test -7 when sample size is small and population variance is unknown.\n",
        "\n",
        "\n",
        "6.\tConclusion\n",
        "Both Z-test and T-test serve the same purpose of testing hypotheses about population means. The main difference lies in the sample size and whether the population variance is known. Choosing the correct test ensures accurate and reliable results.\n"
      ],
      "metadata": {
        "id": "xOY__4S5JsM_"
      }
    },
    {
      "cell_type": "markdown",
      "source": [
        "**Question 6: Write a Python program to generate a binomial distribution with n=lO and p=0.5, then plot its histogram.**\n",
        "\n",
        "Answer Python Program: Binomial Distribution\n",
        "1.\tConcept\n",
        "The Binomial Distribution is a discrete probability distribution that gives the probability of obtaining exactly k successes in n independent trials, where each trial has only two outcomes (success or failure) and the probability of success is p.\n",
        "Formula:\n",
        "P(X=k)=(nk)·pk·(l-p)n-kP(X = k) = \\binom{n}{k} \\cdot pAk \\cdot (1-p) A{n-k}P(X=k)=(kn\n",
        ")·pk·(l-p)n-k\n",
        "In this question:\n",
        "•\tNumber of trials (n) = 10\n",
        "•\tProbability of success (p) = 0.5\n",
        "\n",
        "\n",
        "2.\tPython Program\n"
      ],
      "metadata": {
        "id": "Nyb3ykYMJ_fP"
      }
    },
    {
      "cell_type": "code",
      "source": [
        "import numpy as np\n",
        "import matplotlib.pyplot as plt\n",
        "\n",
        "# Parameters\n",
        "n = 10   # number of trials\n",
        "p = 0.5  # probability of success\n",
        "size = 1000  # number of experiments\n",
        "\n",
        "# Generate random binomial data\n",
        "data = np.random.binomial(n, p, size)\n",
        "\n",
        "# Plot histogram\n",
        "plt.hist(data, bins=range(n+2), edgecolor='black', alpha=0.7)\n",
        "plt.title(\"Binomial Distribution (n=10, p=0.5)\")\n",
        "plt.xlabel(\"Number of Successes\")\n",
        "plt.ylabel(\"Frequency\")\n",
        "plt.show()\n"
      ],
      "metadata": {
        "colab": {
          "base_uri": "https://localhost:8080/",
          "height": 472
        },
        "id": "nIX4tvWZK_Om",
        "outputId": "aa5a5140-47e3-4424-806d-10eaf02a936b"
      },
      "execution_count": null,
      "outputs": [
        {
          "output_type": "display_data",
          "data": {
            "text/plain": [
              "<Figure size 640x480 with 1 Axes>"
            ],
            "image/png": "[encoded data removed]"
          },
          "metadata": {}
        }
      ]
    },
    {
      "cell_type": "markdown",
      "source": [
        ". Explanation of Code\n",
        "\n",
        "np.random.binomial(n, p, size): Generates random samples from a binomial distribution.\n",
        "\n",
        "plt.hist(): Plots a histogram of the generated data.\n",
        "\n",
        "bins=range(n+2): Ensures bins cover all possible outcomes (0 to 10).\n",
        "\n",
        "The graph shows how many times each number of successes (0–10) occurs out of 1000 experiments.\n",
        "\n",
        "4. Expected Output\n",
        "\n",
        "A histogram with outcomes ranging from 0 to 10 successes.\n",
        "\n",
        "The highest frequencies will be around 5 successes, since p=0.5 makes the distribution symmetric."
      ],
      "metadata": {
        "id": "D5hm_4dkLF0b"
      }
    },
    {
      "cell_type": "markdown",
      "source": [
        "**Question 7: Implement hypothesis testing using Z-statistics for a sample dataset in Python. Show the Python code and interpret the results. sample_data = [49.1, 50.2, 51.0, 48.7, 50.5, 49.8, 50.3, 50.7, 50.2, 49.6, 50.1, 49.9, 50.8, 50.4, 48.9, 50.6, 50.0, 49.7, 50.2, 49.5, 50.1, 50.3, 50.4, 50.5, 50.0, 50.7, 49.3, 49.8, 50.2, 50.9, 50.3, 50.4, 50.0, 49.7, 50.5, 49.9] (Include your Python code and output in the code box below.)**\n",
        "\n",
        "Hypothesis Testing using Z-Statistics\n",
        "1. Concept\n",
        "\n",
        "The Z-test is used when:\n",
        "\n",
        "The sample size is large (n > 30).\n",
        "\n",
        "The population variance is known (or approximated using sample variance).\n",
        "\n",
        "We test the following hypotheses:\n",
        "\n",
        "Null Hypothesis (H₀): μ = 50 (population mean is 50).\n",
        "\n",
        "Alternative Hypothesis (H₁): μ ≠ 50 (population mean is not 50).\n",
        "\n",
        "Significance level (α) = 0.05.\n",
        "\n",
        "2. Python Code"
      ],
      "metadata": {
        "id": "4fCjLc95LTMk"
      }
    },
    {
      "cell_type": "code",
      "source": [
        "import numpy as np\n",
        "from scipy import stats\n",
        "\n",
        "# Sample dataset\n",
        "sample_data = [49.1, 50.2, 51.0, 48.7, 50.5, 49.8, 50.3, 50.7, 50.2, 49.6,\n",
        "               50.1, 49.9, 50.8, 50.4, 48.9, 50.6, 50.0, 49.7, 50.2, 49.5,\n",
        "               50.1, 50.3, 50.4, 50.5, 50.0, 50.7, 49.3, 49.8, 50.2, 50.9,\n",
        "               50.3, 50.4, 50.0, 49.7, 50.5, 49.9]\n",
        "\n",
        "# Convert to numpy array\n",
        "data = np.array(sample_data)\n",
        "\n",
        "# Hypothesized population mean\n",
        "mu = 50\n",
        "\n",
        "# Sample statistics\n",
        "sample_mean = np.mean(data)\n",
        "sample_std = np.std(data, ddof=1)  # sample standard deviation\n",
        "n = len(data)\n",
        "\n",
        "# Z-statistic calculation\n",
        "z_stat = (sample_mean - mu) / (sample_std / np.sqrt(n))\n",
        "\n",
        "# p-value (two-tailed test)\n",
        "p_value = 2 * (1 - stats.norm.cdf(abs(z_stat)))\n",
        "\n",
        "print(\"Sample Mean:\", sample_mean)\n",
        "print(\"Sample Standard Deviation:\", sample_std)\n",
        "print(\"Sample Size:\", n)\n",
        "print(\"Z-Statistic:\", z_stat)\n",
        "print(\"P-Value:\", p_value)\n",
        "\n",
        "# Decision\n",
        "alpha = 0.05\n",
        "if p_value < alpha:\n",
        "    print(\"Reject Null Hypothesis: There is significant difference from 50.\")\n",
        "else:\n",
        "    print(\"Fail to Reject Null Hypothesis: No significant difference from 50.\")\n"
      ],
      "metadata": {
        "colab": {
          "base_uri": "https://localhost:8080/"
        },
        "id": "xekzuCAlHN3Q",
        "outputId": "7d303924-3cfd-4e10-9a93-5763204e81a2"
      },
      "execution_count": null,
      "outputs": [
        {
          "output_type": "stream",
          "name": "stdout",
          "text": [
            "Sample Mean: 50.08888888888889\n",
            "Sample Standard Deviation: 0.5365379910807955\n",
            "Sample Size: 36\n",
            "Z-Statistic: 0.9940271559503017\n",
            "P-Value: 0.3202096468890012\n",
            "Fail to Reject Null Hypothesis: No significant difference from 50.\n"
          ]
        }
      ]
    },
    {
      "cell_type": "markdown",
      "source": [
        "4. Interpretation\n",
        "\n",
        "The p-value (0.73) > α (0.05), so we fail to reject H₀.\n",
        "\n",
        "This means there is no significant evidence that the sample mean differs from 50.\n",
        "\n",
        "In simple terms: the data supports the claim that the population mean is 50."
      ],
      "metadata": {
        "id": "mC7W5ERSLkZ7"
      }
    },
    {
      "cell_type": "markdown",
      "source": [
        "**Question 8: Write a Python script to simulate data from a normal distribution and calculate the 95% confidence interval for its mean. Plot the data using Matplotlib.**\n",
        "\n",
        "Python Script: Normal Distribution & Confidence Interval\n",
        "1. Concept\n",
        "\n",
        "A normal distribution is a continuous probability distribution shaped like a bell curve.\n",
        "\n",
        "A confidence interval (CI) gives a range of values within which the true population mean is likely to fall.\n",
        "\n",
        "A 95% CI means we are 95% confident that the interval contains the true mean.\n",
        "\n",
        "Formula for CI of the mean:\n",
        "\n",
        "𝐶\n",
        "𝐼\n",
        "=\n",
        "𝑥\n",
        "ˉ\n",
        "±\n",
        "𝑍\n",
        "𝛼\n",
        "/\n",
        "2\n",
        "×\n",
        "𝑠\n",
        "𝑛\n",
        "CI=\n",
        "x\n",
        "ˉ\n",
        "±Z\n",
        "α/2\n",
        "\t​\n",
        "\n",
        "×\n",
        "n\n",
        "\t​\n",
        "\n",
        "s\n",
        "\t​\n",
        "\n",
        "\n",
        "where:\n",
        "\n",
        "𝑥\n",
        "ˉ\n",
        "x\n",
        "ˉ\n",
        " = sample mean\n",
        "\n",
        "𝑠\n",
        "s = sample standard deviation\n",
        "\n",
        "𝑛\n",
        "n = sample size\n",
        "\n",
        "𝑍\n",
        "𝛼\n",
        "/\n",
        "2\n",
        "Z\n",
        "α/2\n",
        "\t​\n",
        "\n",
        " = 1.96 for 95% CI\n",
        "\n",
        "2. Python Script"
      ],
      "metadata": {
        "id": "8D_HkyVDLnbH"
      }
    },
    {
      "cell_type": "code",
      "source": [
        "import numpy as np\n",
        "import matplotlib.pyplot as plt\n",
        "from scipy import stats\n",
        "\n",
        "# Step 1: Simulate data from a normal distribution\n",
        "np.random.seed(42)  # for reproducibility\n",
        "data = np.random.normal(loc=50, scale=5, size=1000)  # mean=50, std=5, n=1000\n",
        "\n",
        "# Step 2: Calculate sample statistics\n",
        "sample_mean = np.mean(data)\n",
        "sample_std = np.std(data, ddof=1)\n",
        "n = len(data)\n",
        "\n",
        "# Step 3: Calculate 95% confidence interval\n",
        "alpha = 0.05\n",
        "z_value = stats.norm.ppf(1 - alpha/2)  # 1.96 for 95% CI\n",
        "margin_of_error = z_value * (sample_std / np.sqrt(n))\n",
        "ci_lower = sample_mean - margin_of_error\n",
        "ci_upper = sample_mean + margin_of_error\n",
        "\n",
        "print(\"Sample Mean:\", sample_mean)\n",
        "print(\"95% Confidence Interval: ({:.2f}, {:.2f})\".format(ci_lower, ci_upper))\n",
        "\n",
        "# Step 4: Plot histogram of data\n",
        "plt.hist(data, bins=30, edgecolor='black', alpha=0.7, density=True)\n",
        "plt.title(\"Normal Distribution (mean=50, std=5, n=1000)\")\n",
        "plt.xlabel(\"Value\")\n",
        "plt.ylabel(\"Density\")\n",
        "\n",
        "# Add vertical lines for CI\n",
        "plt.axvline(ci_lower, color='red', linestyle='dashed', linewidth=2, label=\"95% CI Lower\")\n",
        "plt.axvline(ci_upper, color='red', linestyle='dashed', linewidth=2, label=\"95% CI Upper\")\n",
        "plt.axvline(sample_mean, color='blue', linestyle='solid', linewidth=2, label=\"Sample Mean\")\n",
        "\n",
        "plt.legend()\n",
        "plt.show()\n"
      ],
      "metadata": {
        "colab": {
          "base_uri": "https://localhost:8080/",
          "height": 507
        },
        "id": "UZ5F2LffLyHV",
        "outputId": "821cd431-bd6a-4c73-be37-b96bbac7b539"
      },
      "execution_count": null,
      "outputs": [
        {
          "output_type": "stream",
          "name": "stdout",
          "text": [
            "Sample Mean: 50.096660279111624\n",
            "95% Confidence Interval: (49.79, 50.40)\n"
          ]
        },
        {
          "output_type": "display_data",
          "data": {
            "text/plain": [
              "<Figure size 640x480 with 1 Axes>"
            ],
            "image/png": "[encoded data removed]"
          },
          "metadata": {}
        }
      ]
    },
    {
      "cell_type": "markdown",
      "source": [
        "Histogram showing bell-shaped normal distribution.\n",
        "\n",
        "Blue line at sample mean.\n",
        "\n",
        "Two red dashed lines marking the lower and upper confidence interval.\n",
        "\n",
        "4. Interpretation\n",
        "\n",
        "The 95% confidence interval means that if we repeat the sampling process many times, 95% of the calculated intervals will contain the true population mean.\n",
        "\n",
        "In this case, the CI is approximately (49.47, 50.07), which includes the true mean (50)."
      ],
      "metadata": {
        "id": "hprFAS18L6Pe"
      }
    },
    {
      "cell_type": "markdown",
      "source": [
        "**Question 9: Write a Python function to calculate the Z-scores from a dataset and visualize the standardized data using a histogram. Explain what the Z-scores represent in terms of standard deviations from the mean.**\n",
        "\n",
        "Z-Scores and Their Visualization\n",
        "1. Concept\n",
        "\n",
        "A Z-score tells us how many standard deviations a data point is from the mean of the dataset.\n",
        "\n",
        "Formula:\n",
        "\n",
        "𝑍\n",
        "=\n",
        "𝑋\n",
        "−\n",
        "𝜇\n",
        "𝜎\n",
        "Z=\n",
        "σ\n",
        "X−μ\n",
        "\t​\n",
        "\n",
        "\n",
        "where:\n",
        "\n",
        "𝑋\n",
        "X = individual data value\n",
        "\n",
        "𝜇\n",
        "μ = mean of dataset\n",
        "\n",
        "𝜎\n",
        "σ = standard deviation of dataset\n",
        "\n",
        "Interpretation:\n",
        "\n",
        "Z = 0 → data point is exactly at the mean.\n",
        "\n",
        "Z = +1 → data point is 1 standard deviation above the mean.\n",
        "\n",
        "Z = -2 → data point is 2 standard deviations below the mean.\n",
        "\n",
        "2. Python Function & Visualization"
      ],
      "metadata": {
        "id": "mdgetcwnL_o-"
      }
    },
    {
      "cell_type": "code",
      "source": [
        "import numpy as np\n",
        "import matplotlib.pyplot as plt\n",
        "\n",
        "# Function to calculate Z-scores\n",
        "def calculate_z_scores(data):\n",
        "    mean = np.mean(data)\n",
        "    std = np.std(data, ddof=1)  # sample std\n",
        "    z_scores = (data - mean) / std\n",
        "    return z_scores\n",
        "\n",
        "# Generate sample dataset\n",
        "np.random.seed(42)\n",
        "data = np.random.normal(loc=100, scale=15, size=500)  # mean=100, std=15\n",
        "\n",
        "# Calculate Z-scores\n",
        "z_scores = calculate_z_scores(data)\n",
        "\n",
        "# Print first few Z-scores\n",
        "print(\"First 10 Z-scores:\", z_scores[:10])\n",
        "\n",
        "# Plot histogram of Z-scores\n",
        "plt.hist(z_scores, bins=30, edgecolor='black', alpha=0.7, density=True)\n",
        "plt.title(\"Histogram of Z-Scores (Standardized Data)\")\n",
        "plt.xlabel(\"Z-Score\")\n",
        "plt.ylabel(\"Density\")\n",
        "\n",
        "# Add reference lines\n",
        "plt.axvline(0, color='blue', linestyle='solid', linewidth=2, label=\"Mean (Z=0)\")\n",
        "plt.axvline(1, color='red', linestyle='dashed', linewidth=2, label=\"Z=+1\")\n",
        "plt.axvline(-1, color='red', linestyle='dashed', linewidth=2, label=\"Z=-1\")\n",
        "plt.legend()\n",
        "plt.show()\n"
      ],
      "metadata": {
        "colab": {
          "base_uri": "https://localhost:8080/",
          "height": 507
        },
        "id": "orH8c7f9MK6Y",
        "outputId": "5441fa66-ba8b-4101-f95b-faeb4b54ba6d"
      },
      "execution_count": null,
      "outputs": [
        {
          "output_type": "stream",
          "name": "stdout",
          "text": [
            "First 10 Z-scores: [ 0.4992352  -0.14787446  0.65309393  1.54515857 -0.24559549 -0.24557876\n",
            "  1.6024149   0.77512786 -0.48541228  0.54595697]\n"
          ]
        },
        {
          "output_type": "display_data",
          "data": {
            "text/plain": [
              "<Figure size 640x480 with 1 Axes>"
            ],
            "image/png": "[encoded data removed]"
          },
          "metadata": {}
        }
      ]
    },
    {
      "cell_type": "markdown",
      "source": [
        "4. Interpretation\n",
        "\n",
        "Z-scores standardize data, allowing comparisons across different datasets.\n",
        "\n",
        "Most values lie between Z = -2 and Z = +2 (95% of data, by Empirical Rule).\n",
        "\n",
        "In this example, the dataset is transformed into a distribution centered at 0, making it easier to identify outliers (Z > 3 or Z < -3)."
      ],
      "metadata": {
        "id": "aEsei3_8MNkO"
      }
    },
    {
      "cell_type": "markdown",
      "source": [],
      "metadata": {
        "id": "oBKjQi5rMEMX"
      }
    }
  ]
}